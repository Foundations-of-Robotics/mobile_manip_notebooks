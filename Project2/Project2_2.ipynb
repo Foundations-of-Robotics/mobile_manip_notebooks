{
 "cells": [
  {
   "cell_type": "markdown",
   "metadata": {},
   "source": [
    "# Project2_2\n",
    "\n",
    "Notebook to design and test a Kalman filter. Different solutions for 3, 4 and 6 states are available in addition to an extented Kalman filter."
   ]
  },
  {
   "cell_type": "code",
   "execution_count": null,
   "metadata": {},
   "outputs": [],
   "source": [
    "# Insérez ici le numéro de votre équipe\n",
    "# (en) Insert here your team number\n",
    "VOTRE_NUMERO_EQUIPE = 0"
   ]
  },
  {
   "cell_type": "code",
   "execution_count": null,
   "metadata": {},
   "outputs": [],
   "source": [
    "import sys\n",
    "sys.path.append('/opt/ros/noetic/lib/python3/dist-packages/')"
   ]
  },
  {
   "cell_type": "code",
   "execution_count": null,
   "metadata": {},
   "outputs": [],
   "source": [
    "# Import des paquets requis et configuration du ROS Master\n",
    "# (en) Import of required packages and configuration of the ROS Master\n",
    "from os import environ\n",
    "import numpy as np\n",
    "import rospy\n",
    "from scipy.spatial.transform import Rotation as R\n",
    "from math import sin, cos\n",
    "from jackal_msgs.msg import Feedback\n",
    "from jackal_msgs.msg import Drive\n",
    "from sensor_msgs.msg import Imu\n",
    "from nav_msgs.msg import Odometry\n",
    "from geometry_msgs.msg import Point, Pose, Quaternion, Twist, Vector3\n",
    "from filterpy.kalman import KalmanFilter\n",
    "#from lab_utils.project2 import publish_odom_tf"
   ]
  },
  {
   "cell_type": "code",
   "execution_count": null,
   "metadata": {},
   "outputs": [],
   "source": [
    "environ['ROS_MASTER_URI'] = \"http://localhost:1137{}/\".format(VOTRE_NUMERO_EQUIPE)"
   ]
  },
  {
   "cell_type": "code",
   "execution_count": null,
   "metadata": {},
   "outputs": [],
   "source": [
    "# Créer et démarrer un nouveau noeud\n",
    "# (en) Create and start a new node\n",
    "rospy.init_node('dingo_state_estimation', anonymous=True)"
   ]
  },
  {
   "cell_type": "code",
   "execution_count": null,
   "metadata": {},
   "outputs": [],
   "source": [
    "# Fonction pour le calcul de l'orientation à partir d'un quaternion\n",
    "# Entrée : Quaternion [x, y ,z ,w]\n",
    "# Sortie : Angle de lacet (yaw) en radians\n",
    "# (en) Function for calculating the orientation from a quaternion\n",
    "# Input: Quaternion [x, y ,z ,w]\n",
    "# Output: Yaw angle in radians\n",
    "def get_heading_from_quaternion(q):\n",
    "    r = R.from_quat([q.x, q.y, q.z, q.w])\n",
    "    angles = r.as_euler('xyz', degrees=False)\n",
    "    return angles[2]"
   ]
  },
  {
   "cell_type": "code",
   "execution_count": null,
   "metadata": {},
   "outputs": [],
   "source": [
    "# Ground truth subscriber callback\n",
    "# (en) Ground truth subscriber callback\n",
    "ground_truth_msg = Odometry()\n",
    "def ground_truth_callback(msg):\n",
    "    global ground_truth_msg\n",
    "    ground_truth_msg = msg"
   ]
  },
  {
   "cell_type": "code",
   "execution_count": null,
   "metadata": {},
   "outputs": [],
   "source": [
    "# UMI subscriber callback\n",
    "# Dans cette fonction la variable msg contient les mesures de l'UMI\n",
    "# (en) UMI subscriber callback\n",
    "# In this function the variable msg contains the measurements of the UMI\n",
    "def imu_callback(msg):\n",
    "    # Utiliser les valeurs du IMU dans cette fonction\n",
    "    # (en) Use the values of the IMU in this function\n",
    "\n",
    "    # Ajouter z et Timestamp\n",
    "    # (en) Add z and Timestamp\n",
    "    kf_imu_update(z, timestamp) # Optionnel selon le filtre choisi"
   ]
  },
  {
   "cell_type": "markdown",
   "metadata": {},
   "source": [
    "### Configuration du script (Script configuration)\n",
    "\n",
    "Ajoutez ici les données géométriques du robot.\n",
    "\n",
    "(en) Add here the geometric data of the robot."
   ]
  },
  {
   "cell_type": "code",
   "execution_count": null,
   "metadata": {},
   "outputs": [],
   "source": [
    "# À compléter selon les tâches précédentes\n",
    "# (en) To be completed according to the previous tasks\n",
    "interwheel_distance = 0.0\n",
    "left_wheel_radius = 0.0\n",
    "right_wheel_radius = 0.0"
   ]
  },
  {
   "cell_type": "markdown",
   "metadata": {},
   "source": [
    "### Estimer les déplacements du robot (Estimate the robot's displacements)\n",
    "\n",
    "Dans la prochaine cellule ajoutez votre code pour estimer les variables x, y et theta du robot (et leurs vitesses).\n",
    "\n",
    "(en) In the next cell add your code to estimate the variables x, y and theta of the robot (and their speeds)."
   ]
  },
  {
   "cell_type": "code",
   "execution_count": null,
   "metadata": {},
   "outputs": [],
   "source": [
    "# Encodeurs subscriber callback\n",
    "# (en) Encoders subscriber callback\n",
    "\n",
    "# cette fonction se charge aussi de calculer l'odométrie pour mettre à jour l'FK\n",
    "# l'utilisation de ces variables est suggérée\n",
    "# (en) This function also takes care of calculating the odometry to update the FK\n",
    "# the use of these variables is suggested\n",
    "prev_left_pos = 0.0\n",
    "prev_right_pos = 0.0\n",
    "last_time_ = rospy.Time.now()\n",
    "def encoders_callback(msg):\n",
    "    global prev_left_pos, prev_right_pos, last_time_\n",
    "\n",
    "    # Utiliser les valeurs des encodeurs dans cette fonction\n",
    "    # (en) Use the values of the encoders in this function\n",
    "\n",
    "    # Ajouter z et Timestamp\n",
    "    # (en) Add z and Timestamp\n",
    "    kf_odom_update(z, timestamp) # Optionnel selon le filtre choisi"
   ]
  },
  {
   "cell_type": "markdown",
   "metadata": {},
   "source": [
    "### Construire le filtre (Build the filter)\n",
    "\n",
    "Dans la prochaine cellule utiliser la bibliothèque FilterPy pour construire le filtre Kalman et estimer le déplacement du robot à partir des capteurs.\n",
    "\n",
    "(en) In the next cell use the FilterPy library to build the Kalman filter and estimate the robot's displacement from the sensors.\n",
    "\n",
    "Vous devez concevoir votre filtre et prendre en compte plusieurs éléments par exemple : nombre d'états, nombre de commandes, nombre de mesures, synchrone ou asynchrone, KF ou EKF, etc.\n",
    "\n",
    "(en) You must design your filter and take into account several elements for example: number of states, number of commands, number of measurements, synchronous or asynchronous, KF or EKF, etc."
   ]
  },
  {
   "cell_type": "code",
   "execution_count": null,
   "metadata": {},
   "outputs": [],
   "source": [
    "# Création du filtre Kalman - dimensions x et z initialisées (changez le 0 selon votre utilisation)\n",
    "# (en) Creation of the Kalman filter - dimensions x and z initialized (change the 0 according to your use)\n",
    "kf = KalmanFilter(dim_x=0, dim_z=0)\n",
    "\n",
    "# Fréquence de mise à jour (changez le 1 pour la fréquence des msgs en entrée)\n",
    "# (en) Update frequency (change 1 for the frequency of the input msgs)\n",
    "dt = 1.0\n",
    "\n",
    "# État de départ (changez le 0 selon votre utilisation)\n",
    "# (en) Starting state (change 0 according to your use)\n",
    "kf.x = np.zeros(0)\n",
    "\n",
    "# Matrice de bruit sur le modèle\n",
    "# Pour le fonctionnement de la librairie, kf.Q = B*Q*B^T\n",
    "# (en) Noise matrix on the model\n",
    "kf.Q = np.array([# entrez ici une matrix de la forme [ligne1],[ligne2]\n",
    "                 # (en) enter here a matrix of the form [line1],[line2]\n",
    "                ])\n",
    "\n",
    "# Matrice de transition d'états\n",
    "# (en) State transition matrix\n",
    "kf.F = np.array([# entrez ici une matrix de la forme [ligne1],[ligne2]\n",
    "                 # (en) enter here a matrix of the form [line1],[line2]\n",
    "                ])\n",
    "\n",
    "# Matrice de bruit sur l'odométrie (selon votre utilisation)\n",
    "# (en) Noise matrix on odometry (according to your use)\n",
    "kf.R_odom = np.array([# entrez ici une matrix de la forme [ligne1],[ligne2]\n",
    "                      # (en) enter here a matrix of the form [line1],[line2]\n",
    "                        ])\n",
    "\n",
    "# Matrice de transition odométrie-états (selon votre utilisation)\n",
    "# (en) Odometry-state transition matrix (according to your use)\n",
    "kf.H_odom = np.array([# entrez ici une matrix de la forme [ligne1],[ligne2]\n",
    "                      # (en) enter here a matrix of the form [line1],[line2]\n",
    "                        ])\n",
    "\n",
    "# Matrice de bruit sur l'UMI (selon votre utilisation)\n",
    "# (en) Noise matrix on the IMU (according to your use)\n",
    "kf.R_imu = np.array([# entrez ici une matrix de la forme [ligne1],[ligne2]\n",
    "                     # (en) enter here a matrix of the form [line1],[line2]\n",
    "                    ])\n",
    "\n",
    "# Matrice de transition UMI-états (selon votre utilisation)\n",
    "# (en) IMU-state transition matrix (according to your use)\n",
    "kf.H_imu =  np.array([# entrez ici une matrix de la forme [ligne1],[ligne2]\n",
    "                      # (en) enter here a matrix of the form [line1],[line2]\n",
    "                    ])\n",
    "\n",
    "last_measurement_time = 0\n",
    "def kf_pre_update(timestamp):\n",
    "    global last_measurement_time\n",
    "\n",
    "    if timestamp > last_measurement_time:\n",
    "        dt = timestamp - last_measurement_time\n",
    "        last_measurement_time = timestamp\n",
    "\n",
    "        # v = kf_cmd_vector[0] # Optionnel selon le filtre choisi\n",
    "        # (en) # Optional depending on the filter used\n",
    "\n",
    "        # Mettre à jour les matrices qui dépendent du temps si on utilise un EKF\n",
    "        # (en) Update matrices that depend on time if using an EKF\n",
    "\n",
    "\n",
    "        # À remplir au besoin\n",
    "        # (en) To be filled in as needed\n",
    "\n",
    "    else:\n",
    "        pass\n",
    "\n",
    "    kf.predict(u=kf_cmd_vector)\n",
    "\n",
    "\n",
    "def kf_odom_update(z, timestamp): # Optionnel selon le filtre choisi\n",
    "    kf_pre_update(timestamp)\n",
    "\n",
    "    kf.H = kf.H_odom\n",
    "\n",
    "    kf.R = kf.R_odom\n",
    "\n",
    "    kf.update(z)\n",
    "\n",
    "def kf_imu_update(z, timestamp): # Optionnel selon le filtre choisi\n",
    "    kf_pre_update(timestamp)\n",
    "\n",
    "    kf.H = kf.H_imu\n",
    "\n",
    "    kf.R = kf.R_imu\n",
    "\n",
    "    kf.update(z)"
   ]
  },
  {
   "cell_type": "markdown",
   "metadata": {},
   "source": [
    "### Configuration du script (Script configuration)\n",
    "\n",
    "Ajoutez ici les noms des messages ROS.\n",
    "\n",
    "(en) Add here the names of the ROS messages."
   ]
  },
  {
   "cell_type": "code",
   "execution_count": null,
   "metadata": {},
   "outputs": [],
   "source": [
    "# ROS subscribers et publishers\n",
    "# (en) ROS subscribers and publishers\n",
    "feedback_sub = rospy.Subscriber('XXX', Feedback, encoders_callback)\n",
    "imu_sub = rospy.Subscriber('XXX', Imu, imu_callback)\n",
    "ground_truth_sub = rospy.Subscriber('XXX', Odometry, ground_truth_callback)\n",
    "cmd_drive_pub = rospy.Publisher('XXX', Drive, queue_size=1)"
   ]
  },
  {
   "cell_type": "markdown",
   "metadata": {},
   "source": [
    "### Tester le filtre (Test the filter)\n",
    "\n",
    "La prochaine cellule déplace le robot dans une courbe pour 20 secondes et enregistre sa pose réelle la pose estimée dans un rosbag.\n",
    "\n",
    "(en) The next cell moves the robot in a curve for 20 seconds and records its actual pose the estimated pose in a rosbag.\n",
    "\n",
    "Changez les 0 pour les valeurs correspondantes de votre filtre Kalman.\n",
    "\n",
    "(en) Change the 0 for the corresponding values of your Kalman filter."
   ]
  },
  {
   "cell_type": "code",
   "execution_count": null,
   "metadata": {},
   "outputs": [],
   "source": [
    "# Création d'un nouveau contenant ROSBAG (en écriture)\n",
    "# (en) Creation of a new ROSBAG container (in writing)\n",
    "import rosbag\n",
    "test_bag = rosbag.Bag('project2.bag', 'w')\n",
    "\n",
    "# Publie l'odométrie et la TF pendant 20 secondes\n",
    "# (en) Publish odometry and TF for 20 seconds\n",
    "start = float(rospy.Time().now().secs)\n",
    "rate = rospy.Rate(50) # 50hz\n",
    "while (float(rospy.Time().now().secs) - start) < 20:\n",
    "\n",
    "    # ***TÂCHE***\n",
    "    # Remplissez avec les valeurs correspondantes de votre filtre Kalman (états)\n",
    "    # (en) Fill in with the corresponding values of your Kalman filter (states)\n",
    "    # exemple x = kf.x[0]\n",
    "    x =\n",
    "    y =\n",
    "    vlin =\n",
    "    vang =\n",
    "    theta =\n",
    "    # ***TÂCHE***\n",
    "\n",
    "    # Déplacer le robot\n",
    "    # (en) Move the robot\n",
    "    cmd_drive_msg = Drive()\n",
    "    cmd_drive_msg.drivers[0] = 5.0\n",
    "    cmd_drive_msg.drivers[1] = 7.0\n",
    "    cmd_drive_pub.publish(cmd_drive_msg)\n",
    "\n",
    "    # Enregistrer le déplacement du robot\n",
    "    # (en) Record the robot's movement\n",
    "    pose = (x, y, 0)\n",
    "    r = R.from_euler('xyz', [0, 0, theta], degrees=False)\n",
    "    orientation = r.as_quat()\n",
    "    odometry_msg = Odometry()\n",
    "    odometry_msg.header.frame_id = \"odom\"\n",
    "    odometry_msg.header.stamp = rospy.Time.now()\n",
    "    odometry_msg.child_frame_id = \"base_link\"\n",
    "    odometry_msg.pose.pose = Pose(Point(*pose), Quaternion(*orientation))\n",
    "    odometry_msg.twist.twist = Twist(Vector3(vlin, 0, 0), Vector3(0, 0, vang))\n",
    "\n",
    "    test_bag.write('/filter', odometry_msg, rospy.Time().now())\n",
    "    test_bag.write('/ground_truth', ground_truth_msg, rospy.Time().now())\n",
    "    rate.sleep()\n",
    "\n",
    "# fermer proprement le ROSBAG\n",
    "# (en) close the ROSBAG properly\n",
    "test_bag.close()"
   ]
  },
  {
   "cell_type": "code",
   "execution_count": null,
   "metadata": {},
   "outputs": [],
   "source": [
    "# Arreter le dingo\n",
    "# (en) Stop the dingo\n",
    "cmd_drive_msg = Drive()\n",
    "cmd_drive_msg.drivers[0] = 0.0\n",
    "cmd_drive_msg.drivers[1] = 0.0\n",
    "cmd_drive_pub.publish(cmd_drive_msg)"
   ]
  }
 ],
 "metadata": {
  "kernelspec": {
   "display_name": "Python 3 (ipykernel)",
   "language": "python",
   "name": "python3"
  },
  "language_info": {
   "codemirror_mode": {
    "name": "ipython",
    "version": 3
   },
   "file_extension": ".py",
   "mimetype": "text/x-python",
   "name": "python",
   "nbconvert_exporter": "python",
   "pygments_lexer": "ipython3",
   "version": "3.9.7"
  }
 },
 "nbformat": 4,
 "nbformat_minor": 4
}
