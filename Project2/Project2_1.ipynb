{
 "cells": [
  {
   "cell_type": "markdown",
   "metadata": {},
   "source": [
    "# Project2_1\n",
    "\n",
    "Notebook to estimate the robot's movements using the encoders."
   ]
  },
  {
   "cell_type": "code",
   "execution_count": null,
   "metadata": {},
   "outputs": [],
   "source": [
    "# Insérez ici le numéro de votre équipe\n",
    "# (en) Insert here your team number\n",
    "VOTRE_NUMERO_EQUIPE = 0"
   ]
  },
  {
   "cell_type": "code",
   "execution_count": null,
   "metadata": {},
   "outputs": [],
   "source": [
    "import sys\n",
    "\n",
    "\n",
    "sys.path.append(\"/opt/ros/noetic/lib/python3/dist-packages/\")"
   ]
  },
  {
   "cell_type": "code",
   "execution_count": null,
   "metadata": {},
   "outputs": [],
   "source": [
    "# Import des paquets requis et configuration du ROS Master\n",
    "# (en) Import of required packages and configuration of the ROS Master\n",
    "from os import environ\n",
    "from filterpy.kalman import KalmanFilter\n",
    "from geometry_msgs.msg import Point, Pose, Quaternion, Twist, Vector3\n",
    "from nav_msgs.msg import Odometry\n",
    "from sensor_msgs.msg import Imu\n",
    "from jackal_msgs.msg import Drive\n",
    "from jackal_msgs.msg import Feedback\n",
    "from math import sin, cos\n",
    "from scipy.spatial.transform import Rotation as R\n",
    "import rospy\n",
    "import numpy as np\n",
    "\n",
    "# from lab_utils.project2 import publish_odom_tf"
   ]
  },
  {
   "cell_type": "code",
   "execution_count": null,
   "metadata": {},
   "outputs": [],
   "source": [
    "environ[\"ROS_MASTER_URI\"] = \"http://localhost:1137{}/\".format(VOTRE_NUMERO_EQUIPE)"
   ]
  },
  {
   "cell_type": "code",
   "execution_count": null,
   "metadata": {},
   "outputs": [],
   "source": [
    "# Créer et démarrer un nouveau noeud\n",
    "# (en) Create and start a new node\n",
    "rospy.init_node(\"dingo_state_estimation\", anonymous=True)"
   ]
  },
  {
   "cell_type": "code",
   "execution_count": null,
   "metadata": {},
   "outputs": [],
   "source": [
    "# Fonction pour le calcul de l'orientation à partir d'un quaternion\n",
    "# Entrée : Quaternion [x, y ,z ,w]\n",
    "# Sortie : Angle de lacet (yaw) en radians\n",
    "# (en) Function for calculating the orientation from a quaternion\n",
    "# Input: Quaternion [x, y ,z ,w]\n",
    "# Output: Yaw angle in radians\n",
    "def get_heading_from_quaternion(q):\n",
    "    r = R.from_quat([q.x, q.y, q.z, q.w])\n",
    "    angles = r.as_euler(\"xyz\", degrees=False)\n",
    "    return angles[2]"
   ]
  },
  {
   "cell_type": "code",
   "execution_count": null,
   "metadata": {},
   "outputs": [],
   "source": [
    "# Ground truth subscriber callback\n",
    "# (en) Ground truth subscriber callback\n",
    "ground_truth_msg = Odometry()\n",
    "\n",
    "\n",
    "def ground_truth_callback(msg):\n",
    "    global ground_truth_msg\n",
    "    ground_truth_msg = msg"
   ]
  },
  {
   "cell_type": "code",
   "execution_count": null,
   "metadata": {},
   "outputs": [],
   "source": [
    "# UMI subscriber callback\n",
    "# Dans cette fonction la variable msg contient les mesures de l'UMI\n",
    "# (en) UMI subscriber callback\n",
    "# In this function the variable msg contains the UMI measurements\n",
    "def imu_callback(msg):\n",
    "    pass\n",
    "    # Utiliser les valeurs du IMU dans cette fonction\n",
    "    # (en) Use the IMU values in this function"
   ]
  },
  {
   "cell_type": "markdown",
   "metadata": {},
   "source": [
    "### Configuration du script (Script configuration)\n",
    "\n",
    "Ajoutez ici les données géométriques du robot.\n",
    "\n",
    "(en) Add here the geometric data of the robot."
   ]
  },
  {
   "cell_type": "code",
   "execution_count": null,
   "metadata": {},
   "outputs": [],
   "source": [
    "# À compléter selon les tâches précédentes\n",
    "# (en) To be completed according to the previous tasks\n",
    "interwheel_distance = 0.0\n",
    "left_wheel_radius = 0.0\n",
    "right_wheel_radius = 0.0"
   ]
  },
  {
   "cell_type": "markdown",
   "metadata": {},
   "source": [
    "### Estimer les déplacements du robot (Estimate the robot's movements)\n",
    "\n",
    "Dans la prochaine cellule ajoutez votre code pour estimer les variables x, y et theta du robot (et leurs vitesses).\n",
    "\n",
    "(en) In the next cell add your code to estimate the variables x, y and theta of the robot (and their speeds)."
   ]
  },
  {
   "cell_type": "code",
   "execution_count": null,
   "metadata": {},
   "outputs": [],
   "source": [
    "# Encodeurs subscriber callback\n",
    "# Estimation de la position du robot selon les mesures des encodeurs\n",
    "# (en) Encoder subscriber callback\n",
    "# Estimation of the robot position according to the encoder measurements\n",
    "prev_left_pos = 0.0\n",
    "prev_right_pos = 0.0\n",
    "last_time_ = rospy.Time.now()\n",
    "\n",
    "\n",
    "def encoders_callback(msg):\n",
    "    global prev_left_pos, prev_right_pos, last_time_\n",
    "\n",
    "    # Obtenir dt\n",
    "    # (en) Get dt\n",
    "    time = rospy.Time.now()\n",
    "    dt = (time - last_time_).to_sec()\n",
    "    if dt < 0.0001:\n",
    "        return\n",
    "\n",
    "    # Obtenir les mesures de chaque encodeur\n",
    "    # (en) Get the measurements of each encoder\n",
    "    left_pos = msg.drivers[0].measured_travel\n",
    "    right_pos = msg.drivers[1].measured_travel\n",
    "\n",
    "    # Ajoutez ici votre code pour estimer les déplacements du robot:\n",
    "    # (en) Add your code here to estimate the robot displacements:\n",
    "\n",
    "    # Enregistrez les valeurs pour la prochaine fois\n",
    "    # (en) Save the values for next time\n",
    "    prev_left_pos = left_wheel_cur_pos\n",
    "    prev_right_pos = right_wheel_cur_pos"
   ]
  },
  {
   "cell_type": "markdown",
   "metadata": {},
   "source": [
    "### Configuration du script\n",
    "\n",
    "Ajoutez ici les noms des messages ROS"
   ]
  },
  {
   "cell_type": "code",
   "execution_count": null,
   "metadata": {},
   "outputs": [],
   "source": [
    "# ROS subscribers et publishers\n",
    "# (en) ROS subscribers and publishers\n",
    "feedback_sub = rospy.Subscriber(\"XXX\", Feedback, encoders_callback)\n",
    "imu_sub = rospy.Subscriber(\"XXX\", Imu, imu_callback)\n",
    "ground_truth_sub = rospy.Subscriber(\"XXX\", Odometry, ground_truth_callback)\n",
    "cmd_drive_pub = rospy.Publisher(\"XXX\", Drive, queue_size=1)"
   ]
  },
  {
   "cell_type": "markdown",
   "metadata": {},
   "source": [
    "### Tester l'estimation\n",
    "\n",
    "La prochaine cellule déplace le robot dans une courbe pour 20 secondes et enregistre sa pose réelle la pose estimée dans un rosbag.\n",
    "\n",
    "Changez les 0 pour les valeurs correspondantes de votre filtre Kalman."
   ]
  },
  {
   "cell_type": "code",
   "execution_count": null,
   "metadata": {},
   "outputs": [],
   "source": [
    "# Création d'un nouveau contenant ROSBAG (en écriture)\n",
    "# (en) Creation of a new ROSBAG container (in writing)\n",
    "import rosbag\n",
    "\n",
    "test_bag = rosbag.Bag(\"project2_1.bag\", \"w\")\n",
    "\n",
    "\n",
    "# Publie l'odométrie et la TF pendant 20 secondes\n",
    "# (en) Publish odometry and TF for 20 seconds\n",
    "start = float(rospy.Time().now().secs)\n",
    "\n",
    "rate = rospy.Rate(50)  # 50hz\n",
    "\n",
    "while (float(rospy.Time().now().secs) - start) < 20:\n",
    "    # ***TÂCHE***\n",
    "    # Changez les 0 pour les valeurs correspondantes de votre estimateur\n",
    "    # (en) Change the 0 for the corresponding values of your estimator\n",
    "    x = 0\n",
    "    y = 0\n",
    "\n",
    "    vlin = 0\n",
    "\n",
    "    vang = 0\n",
    "    theta = 0\n",
    "    # ***TÂCHE***\n",
    "\n",
    "    # Déplacer le robot\n",
    "    # (en) Move the robot\n",
    "    cmd_drive_msg = Drive()\n",
    "    cmd_drive_msg.drivers[0] = 5.0\n",
    "    cmd_drive_msg.drivers[1] = 7.0\n",
    "    cmd_drive_pub.publish(cmd_drive_msg)\n",
    "\n",
    "    # Enregistrer le déplacement du robot\n",
    "    # (en) Record the robot displacement\n",
    "    pose = (x, y, 0)\n",
    "\n",
    "    r = R.from_euler(\"xyz\", [0, 0, theta], degrees=False)\n",
    "\n",
    "    orientation = r.as_quat()\n",
    "    odometry_msg = Odometry()\n",
    "    odometry_msg.header.frame_id = \"odom\"\n",
    "    odometry_msg.header.stamp = rospy.Time.now()\n",
    "    odometry_msg.child_frame_id = \"base_link\"\n",
    "    odometry_msg.pose.pose = Pose(Point(*pose), Quaternion(*orientation))\n",
    "    odometry_msg.twist.twist = Twist(Vector3(vlin, 0, 0), Vector3(0, 0, vang))\n",
    "\n",
    "    test_bag.write(\"/filter\", odometry_msg, rospy.Time().now())\n",
    "    test_bag.write(\"/ground_truth\", ground_truth_msg, rospy.Time().now())\n",
    "    rate.sleep()\n",
    "\n",
    "\n",
    "# fermer proprement le ROSBAG\n",
    "# (en) close the ROSBAG properly\n",
    "test_bag.close()"
   ]
  },
  {
   "cell_type": "code",
   "execution_count": null,
   "metadata": {},
   "outputs": [],
   "source": [
    "# Arreter le dingo\n",
    "# (en) Stop the dingo\n",
    "cmd_drive_msg = Drive()\n",
    "cmd_drive_msg.drivers[0] = 0.0\n",
    "cmd_drive_msg.drivers[1] = 0.0\n",
    "cmd_drive_pub.publish(cmd_drive_msg)"
   ]
  }
 ],
 "metadata": {
  "kernelspec": {
   "display_name": "Python 3 (ipykernel)",
   "language": "python",
   "name": "python3"
  },
  "language_info": {
   "codemirror_mode": {
    "name": "ipython",
    "version": 3
   },
   "file_extension": ".py",
   "mimetype": "text/x-python",
   "name": "python",
   "nbconvert_exporter": "python",
   "pygments_lexer": "ipython3",
   "version": "3.9.7"
  }
 },
 "nbformat": 4,
 "nbformat_minor": 4
}
