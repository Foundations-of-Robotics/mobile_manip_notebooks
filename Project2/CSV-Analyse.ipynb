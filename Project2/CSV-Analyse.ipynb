{
 "cells": [
  {
   "cell_type": "markdown",
   "metadata": {},
   "source": [
    "# CSV-Analyse\n",
    "\n",
    "Notebook to extract the variance from the encoders_data.csv and imu_data.csv files."
   ]
  },
  {
   "cell_type": "code",
   "execution_count": null,
   "metadata": {},
   "outputs": [],
   "source": [
    "# Import des paquets requis\n",
    "import numpy as np\n",
    "import pandas as pd\n",
    "from matplotlib import pyplot as plt\n",
    "np.set_printoptions(formatter={'float': lambda x: \"{0:0.6f}\".format(x)})"
   ]
  },
  {
   "cell_type": "code",
   "execution_count": null,
   "metadata": {},
   "outputs": [],
   "source": [
    "# Lecture des données du fichier CSV (roulez le script pour imu et odom)\n",
    "# (en) Read the data from the CSV file (run the script for imu and odom)\n",
    "df = pd.read_csv(\"imu.csv\")\n",
    "\n",
    "# Affiche les 5 premières lignes du fichier\n",
    "# (en) Display the first 5 lines of the file\n",
    "df.head()"
   ]
  },
  {
   "cell_type": "code",
   "execution_count": null,
   "metadata": {},
   "outputs": [],
   "source": [
    "# Réparti les données en lectures des capteurs et référence (ground_truth)\n",
    "# (en) Split the data into sensor readings and reference (ground_truth)\n",
    "n, d = df.shape\n",
    "data = df.iloc[:,:int(d/2)].values\n",
    "ground_truth = df.iloc[:,int(d/2):].values"
   ]
  },
  {
   "cell_type": "code",
   "execution_count": null,
   "metadata": {},
   "outputs": [],
   "source": [
    "# Cacul de la moyenne et de la variance\n",
    "# (en) Calculate the mean and variance\n",
    "variance = [1.0, 1.0]\n",
    "mean = [0.0, 0.0]"
   ]
  },
  {
   "cell_type": "code",
   "execution_count": null,
   "metadata": {},
   "outputs": [],
   "source": [
    "# Affiche les histogrammes des données\n",
    "# (en) Display the histograms of the data\n",
    "for i in range(int(d/2)):\n",
    "    count, bins, ignored = plt.hist(data[:,i], 30, density=True)\n",
    "    plt.plot(bins, 1/(variance[i] * np.sqrt(2 * np.pi)) * np.exp( - (bins - mean[i])**2 / (2 * variance[i]**2) ),\n",
    "             linewidth=2, color='r')\n",
    "    plt.show()"
   ]
  },
  {
   "cell_type": "code",
   "execution_count": null,
   "metadata": {},
   "outputs": [],
   "source": []
  }
 ],
 "metadata": {
  "kernelspec": {
   "display_name": "Python 3 (ipykernel)",
   "language": "python",
   "name": "python3"
  },
  "language_info": {
   "codemirror_mode": {
    "name": "ipython",
    "version": 3
   },
   "file_extension": ".py",
   "mimetype": "text/x-python",
   "name": "python",
   "nbconvert_exporter": "python",
   "pygments_lexer": "ipython3",
   "version": "3.9.7"
  }
 },
 "nbformat": 4,
 "nbformat_minor": 2
}
