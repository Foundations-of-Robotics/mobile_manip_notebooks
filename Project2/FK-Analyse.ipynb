{
 "cells": [
  {
   "cell_type": "markdown",
   "metadata": {},
   "source": [
    "# FK-Analyse\n",
    "\n",
    "Notebook to compare the Kalman filter performance with the ground truth."
   ]
  },
  {
   "cell_type": "code",
   "execution_count": null,
   "metadata": {},
   "outputs": [],
   "source": [
    "# Import des paquets requis\n",
    "import sys; sys.path.append('/opt/ros/noetic/lib/python3/dist-packages/')\n",
    "from scipy.spatial.transform import Rotation as R\n",
    "from nav_msgs.msg import Odometry\n",
    "import numpy, math\n",
    "import rosbag"
   ]
  },
  {
   "cell_type": "code",
   "execution_count": null,
   "metadata": {},
   "outputs": [],
   "source": [
    "# Fonction pour le calcul de l'orientation à partir d'un quaternion\n",
    "# (en) Function for the calculation of the orientation from a quaternion\n",
    "def get_heading_from_quaternion(q):\n",
    "    r = R.from_quat([q.x, q.y, q.z, q.w])\n",
    "    angles = r.as_euler('xyz', degrees=False)\n",
    "    return angles[2]"
   ]
  },
  {
   "cell_type": "code",
   "execution_count": null,
   "metadata": {},
   "outputs": [],
   "source": [
    "# Boucle pour lire l'ensemble du ROSBAG et extraire seulement les positions x/y\n",
    "# (en) Loop to read the whole ROSBAG and extract only the x/y positions\n",
    "x, y, theta, x_gt, y_gt, theta_gt = [], [], [], [], [], []\n",
    "with rosbag.Bag(\"project2-2.bag\", 'r') as in_bag:\n",
    "    for topic, msg, t in in_bag.read_messages():\n",
    "        if topic=='/ground_truth':\n",
    "            x_gt.append(msg.pose.pose.position.x)\n",
    "            y_gt.append(msg.pose.pose.position.y)\n",
    "            theta_gt.append(get_heading_from_quaternion(msg.pose.pose.orientation))\n",
    "        if topic=='/filter':\n",
    "            x.append(msg.pose.pose.position.x)\n",
    "            y.append(msg.pose.pose.position.y)\n",
    "            theta.append(get_heading_from_quaternion(msg.pose.pose.orientation))"
   ]
  },
  {
   "cell_type": "markdown",
   "metadata": {},
   "source": [
    "### matplotlib\n",
    "\n",
    "matplotlib is a plotting library for the Python programming language and its numerical mathematics extension NumPy. It provides an object-oriented API for embedding plots into applications using general-purpose GUI toolkits like Tkinter, wxPython, Qt, or GTK+. There is also a procedural \"pylab\" interface based on a state machine (like OpenGL), designed to closely resemble that of MATLAB, though its use is discouraged. SciPy makes use of matplotlib."
   ]
  },
  {
   "cell_type": "code",
   "execution_count": null,
   "metadata": {},
   "outputs": [],
   "source": [
    "import matplotlib.pyplot as plt\n",
    "\n",
    "def plot_track(xs, label='Ground Truth', c='k', lw=2):\n",
    "    plt.plot(xs, color=c, lw=2, ls=':', label=label)\n",
    "\n",
    "def plot_filter(xs, ys=None, c='C0', label='Filter', var=None):\n",
    "    plt.plot(xs, color=c, label=label)\n",
    "\n",
    "def plot_data(ground_truth, filter_data, std_scale=1,\n",
    "               y_lim=None,\n",
    "               xlabel='time', ylabel='position',\n",
    "               title='Kalman Filter'):\n",
    "\n",
    "    plot_track(ground_truth)\n",
    "    plot_filter(filter_data)\n",
    "\n",
    "    plt.legend(loc=4)\n",
    "    plt.xlabel(xlabel)\n",
    "    plt.ylabel(ylabel)\n",
    "\n",
    "    y_max = max(max(ground_truth), max(filter_data))\n",
    "    y_min = min(min(ground_truth), min(filter_data))\n",
    "\n",
    "    plt.ylim((y_min-5, y_max+5))\n",
    "\n",
    "    plt.title(title)\n",
    "    plt.show()"
   ]
  },
  {
   "cell_type": "code",
   "execution_count": null,
   "metadata": {},
   "outputs": [],
   "source": [
    "plot_data(x_gt, x, xlabel='count', ylabel='x (m)', title='X variable')\n",
    "plot_data(y_gt, y, xlabel='count', ylabel='y (m)', title='Y variable')\n",
    "plot_data(theta_gt, theta, xlabel='count', ylabel='theta (rad)', title='Theta variable')"
   ]
  },
  {
   "cell_type": "code",
   "execution_count": null,
   "metadata": {},
   "outputs": [],
   "source": []
  }
 ],
 "metadata": {
  "interpreter": {
   "hash": "767d51c1340bd893661ea55ea3124f6de3c7a262a8b4abca0554b478b1e2ff90"
  },
  "kernelspec": {
   "display_name": "Python 3 (ipykernel)",
   "language": "python",
   "name": "python3"
  },
  "language_info": {
   "codemirror_mode": {
    "name": "ipython",
    "version": 3
   },
   "file_extension": ".py",
   "mimetype": "text/x-python",
   "name": "python",
   "nbconvert_exporter": "python",
   "pygments_lexer": "ipython3",
   "version": "3.9.7"
  }
 },
 "nbformat": 4,
 "nbformat_minor": 4
}
