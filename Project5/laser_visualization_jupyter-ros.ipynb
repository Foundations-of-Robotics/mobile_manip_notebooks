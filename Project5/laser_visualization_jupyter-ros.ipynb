{
 "cells": [
  {
   "cell_type": "markdown",
   "metadata": {},
   "source": [
    "### laser_visualisation_Jupyter-ros\n",
    "\n",
    "Visualisation of the depth camera as a laser sensor in a 3D setting using jupyter ros."
   ]
  },
  {
   "cell_type": "code",
   "execution_count": null,
   "metadata": {},
   "outputs": [],
   "source": [
    "import sys; sys.path.append('/opt/ros/noetic/lib/python3/dist-packages/')\n",
    "from os import environ\n",
    "import rospy\n",
    "from geometry_msgs.msg import Pose, PoseStamped, PoseWithCovarianceStamped\n",
    "environ['ROS_MASTER_URI'] = \"http://localhost:11311/\" #Ordi personnel"
   ]
  },
  {
   "cell_type": "code",
   "execution_count": null,
   "metadata": {},
   "outputs": [],
   "source": [
    "# Créer et démarrer un nouveau noeud\n",
    "# (en) Create and start a new node\n",
    "rospy.init_node('visualisation', anonymous=True)"
   ]
  },
  {
   "cell_type": "code",
   "execution_count": null,
   "metadata": {},
   "outputs": [],
   "source": [
    "# AMCL_pose callback (pour la visualisation de la pose)\n",
    "pose_msg = Pose()\n",
    "def amcl_callback(msg):\n",
    "    global pose_msg\n",
    "    pose_msg = msg.pose.pose\n",
    "    pose = PoseStamped()\n",
    "\n",
    "    pose.header.seq = 1\n",
    "    pose.header.stamp = rospy.Time.now()\n",
    "    pose.header.frame_id = \"map\"\n",
    "\n",
    "    pose.pose.position.x = pose_msg.position.x\n",
    "    pose.pose.position.y = pose_msg.position.y\n",
    "    pose.pose.position.z = 0.0\n",
    "\n",
    "    pose.pose.orientation.x = pose_msg.orientation.x\n",
    "    pose.pose.orientation.y = pose_msg.orientation.y\n",
    "    pose.pose.orientation.z = pose_msg.orientation.z\n",
    "    pose.pose.orientation.w = pose_msg.orientation.w\n",
    "\n",
    "    pose_pub.publish(pose)\n",
    "\n",
    "pose_pub = rospy.Publisher('/mobile_manip/pose', PoseStamped, queue_size=1)\n",
    "amcl_sub = rospy.Subscriber('/amcl_pose', PoseWithCovarianceStamped, amcl_callback)"
   ]
  },
  {
   "cell_type": "code",
   "execution_count": null,
   "metadata": {},
   "outputs": [],
   "source": [
    "from jupyros import ros3d\n",
    "from ipywidgets import Layout\n",
    "v = ros3d.Viewer()\n",
    "rc = ros3d.ROSConnection(url=\"ws://localhost:9090\")\n",
    "tf_client = ros3d.TFClient(ros=rc, fixed_frame='map')\n",
    "\n",
    "laser_view = ros3d.LaserScan(topic=\"/scan\", ros=rc, tf_client=tf_client)\n",
    "map_view = ros3d.OccupancyGrid(topic=\"/map\", ros=rc, tf_client=tf_client)\n",
    "pose_view = ros3d.Pose(topic=\"/mobile_manip/pose\", ros=rc, tf_client=tf_client)\n",
    "g = ros3d.GridModel()\n",
    "v.objects = [laser_view, map_view, pose_view]\n",
    "v.layout = Layout(border=\"3px solid black\", width=\"1200px\", height=\"500px\")\n",
    "v"
   ]
  },
  {
   "cell_type": "code",
   "execution_count": null,
   "metadata": {},
   "outputs": [],
   "source": []
  }
 ],
 "metadata": {
  "interpreter": {
   "hash": "31f2aee4e71d21fbe5cf8b01ff0e069b9275f58929596ceb00d14d90e3e16cd6"
  },
  "kernelspec": {
   "display_name": "Python 3 (ipykernel)",
   "language": "python",
   "name": "python3"
  },
  "language_info": {
   "codemirror_mode": {
    "name": "ipython",
    "version": 3
   },
   "file_extension": ".py",
   "mimetype": "text/x-python",
   "name": "python",
   "nbconvert_exporter": "python",
   "pygments_lexer": "ipython3",
   "version": "3.9.7"
  }
 },
 "nbformat": 4,
 "nbformat_minor": 4
}
