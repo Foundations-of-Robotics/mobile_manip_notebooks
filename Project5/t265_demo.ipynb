{
 "cells": [
  {
   "cell_type": "markdown",
   "metadata": {},
   "source": [
    "# t265_demo\n",
    "\n",
    "Notebook using a 2D plot representing the t265 positioning with buttons to move the robot."
   ]
  },
  {
   "cell_type": "code",
   "execution_count": null,
   "metadata": {},
   "outputs": [],
   "source": [
    "# Insérez ici le numéro de votre équipe\n",
    "# (en) Insert here your team number\n",
    "VOTRE_NUMERO_EQUIPE = 0"
   ]
  },
  {
   "cell_type": "code",
   "execution_count": null,
   "metadata": {},
   "outputs": [],
   "source": [
    "# Import des paquets requis et configuration du ROS Master\n",
    "# (en) Import of required packages and configuration of the ROS Master\n",
    "import sys; sys.path.append('/opt/ros/melodic/lib/python2.7/dist-packages/')\n",
    "from os import environ\n",
    "environ['ROS_MASTER_URI'] = \"http://localhost:1137{}/\".format(VOTRE_NUMERO_EQUIPE)\n",
    "import rospy\n",
    "from jackal_msgs.msg import Drive\n",
    "from nav_msgs.msg import Odometry\n",
    "from geometry_msgs.msg import Pose\n",
    "import numpy as np"
   ]
  },
  {
   "cell_type": "code",
   "execution_count": null,
   "metadata": {},
   "outputs": [],
   "source": [
    "# Créer et démarrer un nouveau noeud\n",
    "# (en) Create and start a new node\n",
    "rospy.init_node('dingo_controller', anonymous=True)"
   ]
  },
  {
   "cell_type": "markdown",
   "metadata": {},
   "source": [
    "## Création des 'callbacks' (Create callbacks)\n",
    "\n",
    "Chaque fonction est associée à un sujet ROS et enregistre en continue sont contenu dans une variable globale.\n",
    "\n",
    "(en) Each function is associated with a ROS topic and continuously records its content in a global variable."
   ]
  },
  {
   "cell_type": "code",
   "execution_count": null,
   "metadata": {},
   "outputs": [],
   "source": [
    "# Realsense Pose subscriber callback\n",
    "pose_msg = Pose()\n",
    "def pose_callback(msg):\n",
    "    global pose_msg\n",
    "    pose_msg  = msg.pose.pose\n",
    "# Fonction pour le calcul de l'orientation à partir d'un quaternion\n",
    "# (en) Function for calculating the orientation from a quaternion\n",
    "from scipy.spatial.transform import Rotation as R\n",
    "def get_heading_from_quaternion(q):\n",
    "    r = R.from_quat([q.x, q.y, q.z, q.w])\n",
    "    angles = r.as_euler('xyz', degrees=False)\n",
    "    return angles[2]\n",
    "def wraptopi(angle):\n",
    "    xwrap=np.remainder(angle, 2*np.pi)\n",
    "    if np.abs(xwrap)>np.pi:\n",
    "        xwrap -= 2*np.pi * np.sign(xwrap)\n",
    "    return xwrap"
   ]
  },
  {
   "cell_type": "code",
   "execution_count": null,
   "metadata": {},
   "outputs": [],
   "source": [
    "# ROS subscribers et publishers\n",
    "cmd_drive_pub = rospy.Publisher('/mobile_manip/dingo_velocity_controller/cmd_drive', Drive, queue_size=1)\n",
    "pose_sub = rospy.Subscriber('/mobile_manip/t265/odom/sample', Odometry, pose_callback)"
   ]
  },
  {
   "cell_type": "markdown",
   "metadata": {},
   "source": [
    "## Contrôleur du mouvement (Movement controller)"
   ]
  },
  {
   "cell_type": "code",
   "execution_count": null,
   "metadata": {},
   "outputs": [],
   "source": [
    "interwheel_distance = 0.3765\n",
    "left_wheel_radius = 0.098\n",
    "right_wheel_radius = 0.098\n",
    "def move_robot(linear, angular):\n",
    "    vel_left  = (linear - angular * interwheel_distance / 2.0) / left_wheel_radius\n",
    "    vel_right = (linear + angular * interwheel_distance / 2.0) / right_wheel_radius\n",
    "\n",
    "    # Envoi des commandes au roues par topic ROS\n",
    "    # (en) Sending commands to the wheels via ROS topic\n",
    "    cmd_drive_msg = Drive()\n",
    "    cmd_drive_msg.drivers[0] = vel_left\n",
    "    cmd_drive_msg.drivers[1] = vel_right\n",
    "    cmd_drive_pub.publish(cmd_drive_msg)"
   ]
  },
  {
   "cell_type": "markdown",
   "metadata": {},
   "source": [
    "## Interface manuelle (Manual interface)\n",
    "\n",
    "Permet le contrôle du robot avec des flèches et un retour visuel de la pose obtenue par la caméra T265.\n",
    "\n",
    "(en) Allows the control of the robot with arrows and a visual feedback of the pose obtained by the T265 camera."
   ]
  },
  {
   "cell_type": "code",
   "execution_count": null,
   "metadata": {},
   "outputs": [],
   "source": [
    "%matplotlib notebook\n",
    "import ipywidgets as widgets\n",
    "import threading\n",
    "import time, math\n",
    "from matplotlib import pyplot as plt\n",
    "\n",
    "btn_up = widgets.Button(icon='arrow-up')\n",
    "btn_left = widgets.Button(icon='arrow-left')\n",
    "btn_down = widgets.Button(icon='arrow-down')\n",
    "btn_right = widgets.Button(icon='arrow-right')\n",
    "btn_stop = widgets.Button(description='Arret')\n",
    "btn_eff = widgets.Button(description='Effacer')\n",
    "\n",
    "fig = plt.figure(figsize=(6,3))\n",
    "XY = []\n",
    "\n",
    "def update_plot():\n",
    "    global fig, XY\n",
    "    while True:\n",
    "        # Calcul du vecteur\n",
    "        cap = wraptopi(get_heading_from_quaternion(pose_msg.orientation))\n",
    "        x_pos = pose_msg.position.x\n",
    "        y_pos = pose_msg.position.y\n",
    "        dx = math.cos(cap)\n",
    "        dy= math.sin(cap)\n",
    "        XY.append([x_pos, y_pos])\n",
    "        # Génération de la visualtion\n",
    "        plt.clf()\n",
    "        plt.scatter(np.asarray(XY)[:,0],np.asarray(XY)[:,1], color='y')\n",
    "        plt.arrow(x_pos, y_pos, dx, dy, color=\"#aa0088\")\n",
    "        plt.axis([-10, 10, -10, 10])\n",
    "        plt.grid(True)\n",
    "        fig.canvas.draw_idle()\n",
    "        plt.pause(0.1)\n",
    "\n",
    "def on_btn_up_clicked(b):\n",
    "    move_robot(2,0)\n",
    "\n",
    "def on_btn_left_clicked(b):\n",
    "    move_robot(0,1)\n",
    "\n",
    "def on_btn_down_clicked(b):\n",
    "    move_robot(-2,0)\n",
    "\n",
    "def on_btn_right_clicked(b):\n",
    "    move_robot(0,-1)\n",
    "\n",
    "def on_btn_stop_clicked(b):\n",
    "    move_robot(0,0)\n",
    "\n",
    "def on_btn_eff_clicked(b):\n",
    "    global XY\n",
    "    XY = []\n",
    "\n",
    "btn_up.on_click(on_btn_up_clicked)\n",
    "btn_left.on_click(on_btn_left_clicked)\n",
    "btn_down.on_click(on_btn_down_clicked)\n",
    "btn_right.on_click(on_btn_right_clicked)\n",
    "btn_stop.on_click(on_btn_stop_clicked)\n",
    "btn_eff.on_click(on_btn_eff_clicked)\n",
    "\n",
    "\n",
    "grid = widgets.GridspecLayout(4, 3,height='500px')\n",
    "\n",
    "grid[0,0] = btn_eff\n",
    "grid[1,1] = btn_up\n",
    "grid[2,0] = btn_left\n",
    "grid[2,1] = btn_stop\n",
    "grid[2,2] = btn_right\n",
    "grid[3,1] = btn_down\n",
    "thread = threading.Thread(target=update_plot)\n",
    "thread.start()\n",
    "grid"
   ]
  },
  {
   "cell_type": "code",
   "execution_count": null,
   "metadata": {},
   "outputs": [],
   "source": []
  }
 ],
 "metadata": {
  "kernelspec": {
   "display_name": "Python 2",
   "language": "python",
   "name": "python2"
  },
  "language_info": {
   "codemirror_mode": {
    "name": "ipython",
    "version": 2
   },
   "file_extension": ".py",
   "mimetype": "text/x-python",
   "name": "python",
   "nbconvert_exporter": "python",
   "pygments_lexer": "ipython2",
   "version": "2.7.17"
  }
 },
 "nbformat": 4,
 "nbformat_minor": 4
}
