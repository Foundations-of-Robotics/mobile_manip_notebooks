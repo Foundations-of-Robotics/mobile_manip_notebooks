{
 "cells": [
  {
   "cell_type": "markdown",
   "metadata": {},
   "source": [
    "# planner_project3\n",
    "\n",
    "Notebook with A* and RRT path planners."
   ]
  },
  {
   "cell_type": "code",
   "execution_count": null,
   "metadata": {},
   "outputs": [],
   "source": [
    "import sys; sys.path.append('/opt/ros/noetic/lib/python3/dist-packages/')\n",
    "import numpy as np\n",
    "from lab_utils.plan_utils import *\n",
    "from matplotlib import pyplot as plt\n",
    "from matplotlib import image as mpimg\n",
    "import cv2"
   ]
  },
  {
   "cell_type": "markdown",
   "metadata": {},
   "source": [
    "## Importation de la carte (format png)"
   ]
  },
  {
   "cell_type": "code",
   "execution_count": null,
   "metadata": {},
   "outputs": [],
   "source": [
    "fig, ax = plt.subplots()\n",
    "image = mpimg.imread(\"a2230_map_closed_fliped.png\")\n",
    "start = Point(1380, 1130)\n",
    "end = Point(1750, 1600)\n",
    "\n",
    "#image = mpimg.imread(\"map.png\")\n",
    "#start = Point(1000, 400)\n",
    "#end = Point(400, 100)\n",
    "\n",
    "plt.imshow(image)\n",
    "ax.add_artist(plt.Circle((start.x, start.y), 10, color='r'))\n",
    "ax.add_artist(plt.Circle((end.x, end.y), 10, color='y'))\n",
    "plt.show()"
   ]
  },
  {
   "cell_type": "code",
   "execution_count": null,
   "metadata": {},
   "outputs": [],
   "source": [
    "map_img = 1-np.array(image[:,:,1])\n",
    "print(map_img.shape)\n",
    "mat_map = map_img\n",
    "map = BMPMap(width=map_img.shape[1], height=map_img.shape[0], mat=mat_map)"
   ]
  },
  {
   "cell_type": "markdown",
   "metadata": {},
   "source": [
    "## Trajectoire avec A*"
   ]
  },
  {
   "cell_type": "code",
   "execution_count": null,
   "metadata": {},
   "outputs": [],
   "source": [
    "from lab_utils.astart import AStarPlanner\n",
    "astarPlanner = AStarPlanner(map=map, step_size=10, heuristic_dist='Euclidean')\n",
    "astarPlanner.plan(start=start, target=end)"
   ]
  },
  {
   "cell_type": "code",
   "execution_count": null,
   "metadata": {},
   "outputs": [],
   "source": [
    "fig = plt.figure(figsize=(16,5))\n",
    "ax = fig.add_subplot(1, 2, 1)\n",
    "plt.imshow(image)\n",
    "ax.add_artist(plt.Circle((start.x, start.y), 10, color='r'))\n",
    "ax.add_artist(plt.Circle((end.x, end.y), 10, color='y'))\n",
    "for i in range(len(astarPlanner.open_list)-1):\n",
    "    pt = astarPlanner.open_list[i].pos.tuple()\n",
    "    ax.add_artist(plt.Circle((pt[0], pt[1]), 5, color='gray'))\n",
    "for i in range(len(astarPlanner.close_list)-1):\n",
    "    pt = astarPlanner.close_list[i].pos.tuple()\n",
    "    ax.add_artist(plt.Circle((pt[0], pt[1]), 5, color='gray'))\n",
    "\n",
    "ax2 = fig.add_subplot(1, 2, 2)\n",
    "plt.imshow(image)\n",
    "ax2.add_artist(plt.Circle((start.x, start.y), 10, color='r'))\n",
    "ax2.add_artist(plt.Circle((end.x, end.y), 10, color='y'))\n",
    "for i in range(len(astarPlanner.finalPath)-1):\n",
    "    pt = astarPlanner.finalPath[i].tuple()\n",
    "    ax2.add_artist(plt.Circle((pt[0], pt[1]), 5, color='g'))\n",
    "plt.show()"
   ]
  },
  {
   "cell_type": "markdown",
   "metadata": {},
   "source": [
    "## Trajectoire avec RRT"
   ]
  },
  {
   "cell_type": "code",
   "execution_count": null,
   "metadata": {},
   "outputs": [],
   "source": [
    "from lab_utils.rrt import RRTPlanner\n",
    "rrtPlanner = RRTPlanner(map, epsilon=0.05, stepSize=20)\n",
    "rrtPlanner.plan(start=start, target=end)"
   ]
  },
  {
   "cell_type": "code",
   "execution_count": null,
   "metadata": {},
   "outputs": [],
   "source": [
    "fig = plt.figure(figsize=(16,5))\n",
    "ax = fig.add_subplot(1, 2, 1)\n",
    "plt.imshow(image)\n",
    "ax.add_artist(plt.Circle((start.x, start.y), 10, color='r'))\n",
    "ax.add_artist(plt.Circle((end.x, end.y), 10, color='y'))\n",
    "for i in range(len(rrtPlanner.nodeList)-1):\n",
    "    pt = rrtPlanner.nodeList[i].pos.tuple()\n",
    "    ax.add_artist(plt.Circle((pt[0], pt[1]), 1, color='g'))\n",
    "ax2 = fig.add_subplot(1, 2, 2)\n",
    "plt.imshow(image)\n",
    "ax2.add_artist(plt.Circle((start.x, start.y), 10, color='r'))\n",
    "ax2.add_artist(plt.Circle((end.x, end.y), 10, color='y'))\n",
    "for i in range(len(rrtPlanner.finalPath)-1):\n",
    "    pt = rrtPlanner.finalPath[i].tuple()\n",
    "    ax2.add_artist(plt.Circle((pt[0], pt[1]), 1, color='g'))\n",
    "plt.show()"
   ]
  },
  {
   "cell_type": "code",
   "execution_count": null,
   "metadata": {},
   "outputs": [],
   "source": []
  }
 ],
 "metadata": {
  "kernelspec": {
   "display_name": "Python 3 (ipykernel)",
   "language": "python",
   "name": "python3"
  },
  "language_info": {
   "codemirror_mode": {
    "name": "ipython",
    "version": 3
   },
   "file_extension": ".py",
   "mimetype": "text/x-python",
   "name": "python",
   "nbconvert_exporter": "python",
   "pygments_lexer": "ipython3",
   "version": "3.9.7"
  }
 },
 "nbformat": 4,
 "nbformat_minor": 4
}
