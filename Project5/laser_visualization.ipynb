{
 "cells": [
  {
   "cell_type": "markdown",
   "metadata": {},
   "source": [
    "# laser_visualisation\n",
    "\n",
    "Visualisation of the depth camera as a laser sensor in a 2D plot."
   ]
  },
  {
   "cell_type": "code",
   "execution_count": null,
   "metadata": {},
   "outputs": [],
   "source": [
    "# Insérez ici le numéro de votre équipe\n",
    "# (en) Insert here your team number\n",
    "VOTRE_NUMERO_EQUIPE = 0"
   ]
  },
  {
   "cell_type": "markdown",
   "metadata": {},
   "source": [
    "## Import des paquets Python"
   ]
  },
  {
   "cell_type": "code",
   "execution_count": null,
   "metadata": {},
   "outputs": [],
   "source": [
    "# Import des paquets requis et configuration du ROS Master\n",
    "# (en) Import of required packages and configuration of ROS Master\n",
    "import sys\n",
    "sys.path.append('/opt/ros/noetic/lib/python3/dist-packages/'); sys.path.append('/usr/lib/python3/dist-packages/')"
   ]
  },
  {
   "cell_type": "code",
   "execution_count": null,
   "metadata": {},
   "outputs": [],
   "source": [
    "from os import environ\n",
    "import rospy\n",
    "from nav_msgs.msg import Odometry\n",
    "from jackal_msgs.msg import Drive\n",
    "from nav_msgs.msg import OccupancyGrid\n",
    "from sensor_msgs.msg import LaserScan\n",
    "from geometry_msgs.msg import Pose\n",
    "from scipy.spatial.transform import Rotation as R\n",
    "import numpy as np\n",
    "import time"
   ]
  },
  {
   "cell_type": "code",
   "execution_count": null,
   "metadata": {},
   "outputs": [],
   "source": [
    "#environ['ROS_MASTER_URI'] = \"http://localhost:1137{}/\".format(VOTRE_NUMERO_EQUIPE)\n",
    "environ['ROS_MASTER_URI'] = \"http://localhost:11311/\""
   ]
  },
  {
   "cell_type": "code",
   "execution_count": null,
   "metadata": {},
   "outputs": [],
   "source": [
    "# Créer et démarrer un nouveau noeud\n",
    "# (en) Create and start a new node\n",
    "rospy.init_node('laser_visualization', anonymous=True)"
   ]
  },
  {
   "cell_type": "markdown",
   "metadata": {},
   "source": [
    "## Création des 'callbacks' (Create callbacks)\n",
    "\n",
    "Chaque fonction est associée à un sujet ROS et enregistre en continue sont contenu dans une variable globale.\n",
    "\n",
    "(en) Each function is associated with a ROS topic and continuously records its content in a global variable."
   ]
  },
  {
   "cell_type": "code",
   "execution_count": null,
   "metadata": {},
   "outputs": [],
   "source": [
    "# Laser scan subscriber callback\n",
    "laser_msg = LaserScan()\n",
    "def laser_scan_callback(msg):\n",
    "    global laser_msg\n",
    "    laser_msg = msg"
   ]
  },
  {
   "cell_type": "code",
   "execution_count": null,
   "metadata": {},
   "outputs": [],
   "source": [
    "# Realsense Pose subscriber callback\n",
    "pose_msg = Pose()\n",
    "def pose_callback(msg):\n",
    "    global pose_msg\n",
    "    pose_msg  = msg.pose.pose\n",
    "# Fonction pour le calcul de l'orientation à partir d'un quaternion\n",
    "# (en) Function for calculating the orientation from a quaternion\n",
    "def get_heading_from_quaternion(q):\n",
    "    r = R.from_quat([q.x, q.y, q.z, q.w])\n",
    "    angles = r.as_euler('xyz', degrees=False)\n",
    "    return angles[2]\n",
    "def wraptopi(angle):\n",
    "    xwrap=np.remainder(angle, 2*np.pi)\n",
    "    if np.abs(xwrap)>np.pi:\n",
    "        xwrap -= 2*np.pi * np.sign(xwrap)\n",
    "    return xwrap"
   ]
  },
  {
   "cell_type": "code",
   "execution_count": null,
   "metadata": {},
   "outputs": [],
   "source": [
    "# ROS subscribers et publishers\n",
    "laser_scan_sub = rospy.Subscriber('/scan', LaserScan, laser_scan_callback)\n",
    "pose_sub = rospy.Subscriber('/mobile_manip/t265/odom/sample', Odometry, pose_callback)\n",
    "cmd_drive_pub = rospy.Publisher('/mobile_manip/dingo_velocity_controller/cmd_drive', Drive, queue_size=1)"
   ]
  },
  {
   "cell_type": "markdown",
   "metadata": {},
   "source": [
    "## Contrôleur du mouvement (Movement controller)"
   ]
  },
  {
   "cell_type": "code",
   "execution_count": null,
   "metadata": {},
   "outputs": [],
   "source": [
    "interwheel_distance = 0.3765\n",
    "left_wheel_radius = 0.098\n",
    "right_wheel_radius = 0.098\n",
    "def move_robot(linear, angular):\n",
    "    vel_left  = (linear - angular * interwheel_distance / 2.0) / left_wheel_radius\n",
    "    vel_right = (linear + angular * interwheel_distance / 2.0) / right_wheel_radius\n",
    "\n",
    "    # Envoi des commandes au roues par topic ROS\n",
    "    # (en) Sending commands to the wheels via ROS topic\n",
    "    cmd_drive_msg = Drive()\n",
    "    cmd_drive_msg.drivers[0] = vel_left\n",
    "    cmd_drive_msg.drivers[1] = vel_right\n",
    "    cmd_drive_pub.publish(cmd_drive_msg)"
   ]
  },
  {
   "cell_type": "markdown",
   "metadata": {},
   "source": [
    "## Interface manuelle (Manual interface)\n",
    "\n",
    "Permet le contrôle du robot avec des flèches et un retour visuel des obstacles vu par la D435.\n",
    "\n",
    "(en) Allows the robot to be controlled with arrows and a visual feedback of the obstacles seen by the D435."
   ]
  },
  {
   "cell_type": "code",
   "execution_count": null,
   "metadata": {
    "scrolled": true
   },
   "outputs": [],
   "source": [
    "%matplotlib ipympl\n",
    "import ipywidgets as widgets\n",
    "import threading\n",
    "import math\n",
    "import matplotlib.pyplot as plt\n",
    "\n",
    "btn_up = widgets.Button(icon='arrow-up')\n",
    "btn_left = widgets.Button(icon='arrow-left')\n",
    "btn_down = widgets.Button(icon='arrow-down')\n",
    "btn_right = widgets.Button(icon='arrow-right')\n",
    "btn_stop = widgets.Button(description='Arret')\n",
    "\n",
    "fig = plt.figure(figsize=(6,3))\n",
    "\n",
    "def update_plot():\n",
    "    global fig\n",
    "    while True:\n",
    "        cap = wraptopi(get_heading_from_quaternion(pose_msg.orientation))\n",
    "        x_pos = pose_msg.position.x\n",
    "        y_pos = pose_msg.position.y\n",
    "        obstacles_xy = []\n",
    "\n",
    "        for i, r in enumerate(laser_msg.ranges):\n",
    "            angle = cap - laser_msg.angle_min + i * laser_msg.angle_increment\n",
    "            obstacles_xy.append([x_pos + r * math.cos(angle), y_pos + r * math.sin(angle)])\n",
    "            # Arrête si un obstacle directement à l'avant à moins de 1m.\n",
    "            # (en) Stop if an obstacle directly in front within 1m.\n",
    "            if i == 0 and r < 1.0 and r > 0.01:\n",
    "                move_robot(0,0)\n",
    "\n",
    "        plt.clf()\n",
    "        plt.scatter(np.asarray(obstacles_xy)[:,0],np.asarray(obstacles_xy)[:,1], color='r')\n",
    "        plt.scatter(x_pos,y_pos, color='g')\n",
    "        plt.axis([-10, 10, -10, 10])\n",
    "        plt.grid(True)\n",
    "        fig.canvas.draw()\n",
    "        plt.pause(0.1)\n",
    "\n",
    "def on_btn_up_clicked(b):\n",
    "    move_robot(1,0)\n",
    "\n",
    "def on_btn_left_clicked(b):\n",
    "    move_robot(0,1)\n",
    "\n",
    "def on_btn_down_clicked(b):\n",
    "    move_robot(-1,0)\n",
    "\n",
    "def on_btn_right_clicked(b):\n",
    "    move_robot(0,-1)\n",
    "\n",
    "def on_btn_stop_clicked(b):\n",
    "    move_robot(0,0)\n",
    "\n",
    "btn_up.on_click(on_btn_up_clicked)\n",
    "btn_left.on_click(on_btn_left_clicked)\n",
    "btn_down.on_click(on_btn_down_clicked)\n",
    "btn_right.on_click(on_btn_right_clicked)\n",
    "btn_stop.on_click(on_btn_stop_clicked)\n",
    "\n",
    "\n",
    "grid = widgets.GridspecLayout(4, 3,height='500px')\n",
    "\n",
    "grid[1,1] = btn_up\n",
    "grid[2,0] = btn_left\n",
    "grid[2,1] = btn_stop\n",
    "grid[2,2] = btn_right\n",
    "grid[3,1] = btn_down\n",
    "thread = threading.Thread(target=update_plot)\n",
    "thread.start()\n",
    "grid"
   ]
  },
  {
   "cell_type": "code",
   "execution_count": null,
   "metadata": {},
   "outputs": [],
   "source": []
  }
 ],
 "metadata": {
  "interpreter": {
   "hash": "31f2aee4e71d21fbe5cf8b01ff0e069b9275f58929596ceb00d14d90e3e16cd6"
  },
  "kernelspec": {
   "display_name": "Python 3 (ipykernel)",
   "language": "python",
   "name": "python3"
  },
  "language_info": {
   "codemirror_mode": {
    "name": "ipython",
    "version": 3
   },
   "file_extension": ".py",
   "mimetype": "text/x-python",
   "name": "python",
   "nbconvert_exporter": "python",
   "pygments_lexer": "ipython3",
   "version": "3.9.7"
  }
 },
 "nbformat": 4,
 "nbformat_minor": 4
}
