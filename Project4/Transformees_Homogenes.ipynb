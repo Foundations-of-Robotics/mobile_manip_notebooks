{
 "cells": [
  {
   "cell_type": "markdown",
   "metadata": {},
   "source": [
    "# Transformees_Homogenes\n",
    "\n",
    "Examples of homogeneous transformation computation."
   ]
  },
  {
   "cell_type": "code",
   "execution_count": null,
   "metadata": {
    "id": "W2ORFmipXhI8"
   },
   "outputs": [],
   "source": [
    "import numpy as np\n",
    "np.set_printoptions(formatter={'float': '{: 0.3f}'.format})\n",
    "from scipy.spatial.transform import Rotation as R\n",
    "import matplotlib.pyplot as plt\n",
    "from mpl_toolkits.mplot3d import Axes3D"
   ]
  },
  {
   "cell_type": "markdown",
   "metadata": {
    "id": "L-B_dGsRYHCJ"
   },
   "source": [
    "## Définition d'une matrice (Definition of a matrix)\n",
    "\n",
    "A matrix is a mathematical object that can represent systems of linear equations. It is a rectangular array of numbers or other mathematical objects for which operations such as addition and multiplication are defined. Most commonly, a matrix over a field F is a rectangular array of scalars each of which is a member of F.\n",
    "\n",
    "Commonly, a matrix is denoted by a capital letter, such as A, and its elements are denoted by lowercase letters with double subscripts, such as aij. In this case, the matrix A is of size m × n, meaning that it has m rows and n columns, and the entry in the i-th row and j-th column is denoted by aij. Sometimes, the entries are also called coefficients or (more rarely) entries, but the word \"entry\" is used for matrices such as A = [a] or A = [aij] that are not rectangular.\n",
    "\n",
    "In python, a matrix is a list of lists, or a numpy array.\n",
    "\n"
   ]
  },
  {
   "cell_type": "code",
   "execution_count": null,
   "metadata": {
    "colab": {
     "base_uri": "https://localhost:8080/",
     "height": 51
    },
    "id": "SfgvxuNcXjAc",
    "outputId": "af0b9757-8e74-4b99-8e32-93cdb0c123aa"
   },
   "outputs": [],
   "source": [
    "# Matrice singulière (exemple des notes)\n",
    "# (en) Singular matrix\n",
    "A = np.array([[1, 2, 3],\n",
    "              [4, 5, 6],\n",
    "              [7, 8, 9]])\n",
    "\n",
    "# Matrice d'un système d'équation linéaires (exemple des notes)\n",
    "# (en) Matrix of a linear system of equations\n",
    "B = np.array([[1, 1, 1],\n",
    "              [-1, 1, -1],\n",
    "              [45, 21, 8]])\n",
    "print(\"Déterminant de A = {: 0.3f}\".format(np.linalg.det(A)))\n",
    "print(\"Déterminant de B = {: 0.3f}\".format(np.linalg.det(B)))"
   ]
  },
  {
   "cell_type": "markdown",
   "metadata": {
    "id": "Bf42MygOgIQ5"
   },
   "source": [
    "## Inversion d'une matrice (Matrix inversion)\n",
    "\n",
    "The inverse of a matrix A is a matrix A−1 such that A A−1 = I, where I is the identity matrix. Not every matrix has an inverse; those that do are called invertible or nonsingular, and those that do not are called noninvertible or singular. The nonsingular matrix A has an inverse if and only if its determinant is not zero. The inverse of A is unique if it exists."
   ]
  },
  {
   "cell_type": "code",
   "execution_count": null,
   "metadata": {
    "colab": {
     "base_uri": "https://localhost:8080/",
     "height": 153
    },
    "id": "EfBiY-I2gMnv",
    "outputId": "81811bb5-9911-4077-9b56-1c3936e3c055"
   },
   "outputs": [],
   "source": [
    "B_inv = np.linalg.inv(B)\n",
    "print(\"Inverse de B = \")\n",
    "print(B_inv)\n",
    "\n",
    "# Solution de l'excercice des notes\n",
    "# (en) Solution of the exercise in the notes\n",
    "b = np.array([[24],[0],[607]])\n",
    "x = np.matmul(B_inv, b)\n",
    "print(\"Solution = \")\n",
    "print(x)"
   ]
  },
  {
   "cell_type": "markdown",
   "metadata": {
    "id": "eRVl_m46ZVCQ"
   },
   "source": [
    "## Définition d'une matrice de rotation 3D (Definition of a 3D rotation matrix)"
   ]
  },
  {
   "cell_type": "code",
   "execution_count": null,
   "metadata": {
    "colab": {
     "base_uri": "https://localhost:8080/",
     "height": 187
    },
    "id": "xONSYXZIX1S3",
    "outputId": "c4c7a6bb-7ed3-4064-8246-cfd4e741631a"
   },
   "outputs": [],
   "source": [
    "# Matrice de rotation (z) construite automatiquement\n",
    "# (en) Rotation matrix (z) built automatically\n",
    "r1 = R.from_euler('z', [90], degrees=True)\n",
    "print(\"r1 = \")\n",
    "print(r1.as_dcm()[0])\n",
    "print(\"Déterminant de r1 = {: 0.3f}\".format(np.linalg.det(r1.as_dcm()[0])))\n",
    "\n",
    "# Matrice de rotation (z) construite manuellement\n",
    "# (en) Rotation matrix (z) built manually\n",
    "r2 = np.array([[np.cos(np.radians(90)), -np.sin(np.radians(90)), 0],\n",
    "              [np.sin(np.radians(90)), np.cos(np.radians(90)), 0],\n",
    "              [0.0, 0.0, 1]])\n",
    "print(\"r2 =  \")\n",
    "print(r2)\n",
    "print(\"Déterminant de r2 = {: 0.3f}\".format(np.linalg.det(r2)))"
   ]
  },
  {
   "cell_type": "code",
   "execution_count": null,
   "metadata": {
    "colab": {
     "base_uri": "https://localhost:8080/",
     "height": 265
    },
    "id": "-rapdYZjZ-Fd",
    "outputId": "c00418f4-4396-448c-bfdd-ca3acac939fe"
   },
   "outputs": [],
   "source": [
    "## Application à une géométrie (points 3D)\n",
    "# (en) Application to a geometry (3D points)\n",
    "pts = np.array([[2, 10, 10, 2, 2, 2, 10, 10, 2, 2],\n",
    "       [6, 6, 10, 10, 6, 6, 6, 10, 10, 6],\n",
    "       [3, 3, 3, 3, 3, 5, 5, 5, 5, 5]])\n",
    "pts_rot = np.matmul(r2, pts)\n",
    "\n",
    "# Visualisation\n",
    "fig = plt.figure()\n",
    "ax = fig.add_subplot(111, projection='3d')\n",
    "ax.set_xlim3d([-5, 10])\n",
    "ax.set_ylim3d([-5,10])\n",
    "ax.set_zlim3d([-5,10])\n",
    "ax.plot(pts[0],pts[1],pts[2])\n",
    "ax.plot(pts_rot[0],pts_rot[1],pts_rot[2],color='r')"
   ]
  },
  {
   "cell_type": "markdown",
   "metadata": {
    "id": "g70rsnIllTWV"
   },
   "source": [
    "## Transformations homogènes (Homogeneous transformations)\n",
    "\n",
    "On ajoute une coordonnée supplémentaire (homogène) pour permettre une représentation uniforme des translations et des rotations.\n",
    "\n",
    "(en) We add an additional (homogeneous) coordinate to allow a uniform representation of translations and rotations."
   ]
  },
  {
   "cell_type": "code",
   "execution_count": null,
   "metadata": {
    "id": "L1Sq6pUDlnU6"
   },
   "outputs": [],
   "source": [
    "# Matrice de rotation (z) construite manuellement\n",
    "# (en) Rotation matrix (z) built manually\n",
    "r2_hom = np.array([[np.cos(np.radians(90)), -np.sin(np.radians(90)), 0, 0],\n",
    "              [np.sin(np.radians(90)), np.cos(np.radians(90)), 0, 0],\n",
    "              [0.0, 0.0, 1, 0],\n",
    "              [0.0, 0.0, 0, 1]])"
   ]
  },
  {
   "cell_type": "code",
   "execution_count": null,
   "metadata": {
    "colab": {
     "base_uri": "https://localhost:8080/",
     "height": 265
    },
    "id": "e4Brp4e2jRBy",
    "outputId": "9cb3895e-1443-41e5-feb8-2c0e2b775b0a"
   },
   "outputs": [],
   "source": [
    "## Application à une géométrie (points 3D en format homogène)\n",
    "# (en) Application to a geometry (3D points in homogeneous format)\n",
    "pts_hom = np.array([[2, 10, 10, 2, 2, 2, 10, 10, 2, 2],\n",
    "       [6, 6, 10, 10, 6, 6, 6, 10, 10, 6],\n",
    "       [3, 3, 3, 3, 3, 5, 5, 5, 5, 5],\n",
    "       [1, 1, 1, 1, 1, 1, 1, 1, 1, 1]])\n",
    "pts_hom_rot = np.matmul(r2_hom, pts_hom)\n",
    "\n",
    "# Visualisation\n",
    "fig = plt.figure()\n",
    "ax = fig.add_subplot(111, projection='3d')\n",
    "ax.set_xlim3d([-5, 10])\n",
    "ax.set_ylim3d([-5,10])\n",
    "ax.set_zlim3d([-5,10])\n",
    "ax.plot(pts[0],pts[1],pts[2])\n",
    "ax.plot(pts_hom_rot[0],pts_hom_rot[1],pts_hom_rot[2], color='r')"
   ]
  },
  {
   "cell_type": "code",
   "execution_count": null,
   "metadata": {
    "colab": {
     "base_uri": "https://localhost:8080/",
     "height": 102
    },
    "id": "pltcNDZOlyVB",
    "outputId": "b5bdc48e-0600-4905-bda7-9348cb35dc2c"
   },
   "outputs": [],
   "source": [
    "## Transformée concaténée\n",
    "# (en) Concatenated transform\n",
    "# Translation de [6, 8, 4]\n",
    "t2_hom = np.array([[1, 0, 0, 6],\n",
    "              [0, 1, 0, 8],\n",
    "              [0, 0, 1, 4],\n",
    "              [0, 0, 0, 1]])\n",
    "# Mise à l'échelle de [2, 1, 1/2]\n",
    "# (en) Scaling of [2, 1, 1/2]\n",
    "s1_hom = np.array([[2, 0, 0, 0],\n",
    "              [0, 1, 0, 0],\n",
    "              [0, 0, 1/2, 0],\n",
    "              [0, 0, 0, 1]])\n",
    "# Translation de [-6, -8, -4]\n",
    "# (en) Translation of [-6, -8, -4]\n",
    "t1_hom = np.array([[1, 0, 0, -6],\n",
    "              [0, 1, 0, -8],\n",
    "              [0, 0, 1, -4],\n",
    "              [0, 0, 0, 1]])\n",
    "TC = np.matmul(np.matmul(t2_hom,s1_hom),t1_hom)\n",
    "print(\"Transformée concaténée = \")\n",
    "print(TC)"
   ]
  },
  {
   "cell_type": "code",
   "execution_count": null,
   "metadata": {
    "colab": {
     "base_uri": "https://localhost:8080/",
     "height": 265
    },
    "id": "OtIPlv5Mm8BF",
    "outputId": "9d030378-ac98-4828-c12a-39f9bd44e7ac"
   },
   "outputs": [],
   "source": [
    "## Application à une géométrie (points 3D en format homogène)\n",
    "# (en) Application to a geometry (3D points in homogeneous format)\n",
    "pts_tr = np.matmul(TC, pts_hom)\n",
    "\n",
    "# Visualisation\n",
    "fig = plt.figure()\n",
    "ax = fig.add_subplot(111, projection='3d')\n",
    "ax.set_xlim3d([-5, 12])\n",
    "ax.set_ylim3d([-5,12])\n",
    "ax.set_zlim3d([-5,12])\n",
    "ax.plot(pts[0],pts[1],pts[2])\n",
    "ax.plot(pts_tr[0],pts_tr[1],pts_tr[2], color='r')"
   ]
  },
  {
   "cell_type": "code",
   "execution_count": null,
   "metadata": {
    "colab": {
     "base_uri": "https://localhost:8080/",
     "height": 265
    },
    "id": "0OLFQ1j539Ly",
    "outputId": "33202b1d-8079-4ac6-a377-ca2984e437dc"
   },
   "outputs": [],
   "source": [
    "## Changement de l'ordre des transformations (T1 <-> T2)\n",
    "# (en) Change the order of transformations (T1 <-> T2)\n",
    "TC = np.matmul(np.matmul(t1_hom,s1_hom),t2_hom)\n",
    "pts_tr = np.matmul(TC, pts_hom)\n",
    "\n",
    "# Visualisation\n",
    "fig = plt.figure()\n",
    "ax = fig.add_subplot(111, projection='3d')\n",
    "ax.set_xlim3d([-5, 25])\n",
    "ax.set_ylim3d([-5,25])\n",
    "ax.set_zlim3d([-5,25])\n",
    "ax.plot(pts[0],pts[1],pts[2])\n",
    "ax.plot(pts_tr[0],pts_tr[1],pts_tr[2], color='r')"
   ]
  },
  {
   "cell_type": "markdown",
   "metadata": {
    "id": "D5de8eWrso0l"
   },
   "source": [
    "## Application des transformées à des repères géométriques (Application of transformations to geometric frames)"
   ]
  },
  {
   "cell_type": "code",
   "execution_count": null,
   "metadata": {
    "colab": {
     "base_uri": "https://localhost:8080/",
     "height": 265
    },
    "id": "JBElPudKnKUS",
    "outputId": "593e1d13-c6cd-4a49-91a4-fba6cc5be402"
   },
   "outputs": [],
   "source": [
    "origine = np.array([[1],\n",
    "                [1],\n",
    "                [1],\n",
    "                [1]])\n",
    "vecteur = np.array([[1, 0, 0],\n",
    "                [0, 1, 0],\n",
    "                [0, 0, 1],\n",
    "                [1, 1, 1]])\n",
    "\n",
    "# Translation de [-1, 0, -1/2]\n",
    "t2_hom = np.array([[1, 0, 0, -1],\n",
    "              [0, 1, 0, 0],\n",
    "              [0, 0, 1, -1/2],\n",
    "              [0, 0, 0, 1]])\n",
    "r2_hom = np.array([[np.cos(np.radians(45)), -np.sin(np.radians(45)), 0, 0],\n",
    "              [np.sin(np.radians(45)), np.cos(np.radians(45)), 0, 0],\n",
    "              [0.0, 0.0, 1, 0],\n",
    "              [0, 0, 0, 1]])\n",
    "origine_tr = np.matmul(np.matmul(r2_hom,t2_hom), origine)\n",
    "vecteur_tr = np.matmul(np.matmul(r2_hom,t2_hom), vecteur)\n",
    "\n",
    "# Visualisation\n",
    "fig = plt.figure()\n",
    "ax = fig.add_subplot(111, projection='3d')\n",
    "ax.set_xlim([-2, 2])\n",
    "ax.set_ylim([-2, 2])\n",
    "ax.set_zlim([-2, 2])\n",
    "ax.quiver(origine[0],origine[1],origine[2],vecteur[0],vecteur[1],vecteur[2],color='b')\n",
    "ax.quiver(origine_tr[0],origine_tr[1],origine_tr[2],vecteur_tr[0],vecteur_tr[1],vecteur_tr[2],color='r')"
   ]
  },
  {
   "cell_type": "code",
   "execution_count": null,
   "metadata": {},
   "outputs": [],
   "source": []
  }
 ],
 "metadata": {
  "colab": {
   "collapsed_sections": [],
   "name": "Tranformées Homogènes.ipynb",
   "provenance": []
  },
  "kernelspec": {
   "display_name": "Python 3 (ipykernel)",
   "language": "python",
   "name": "python3"
  },
  "language_info": {
   "codemirror_mode": {
    "name": "ipython",
    "version": 3
   },
   "file_extension": ".py",
   "mimetype": "text/x-python",
   "name": "python",
   "nbconvert_exporter": "python",
   "pygments_lexer": "ipython3",
   "version": "3.8.10"
  }
 },
 "nbformat": 4,
 "nbformat_minor": 1
}
