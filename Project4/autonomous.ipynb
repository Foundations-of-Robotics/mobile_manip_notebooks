{
 "cells": [
  {
   "cell_type": "markdown",
   "metadata": {},
   "source": [
    "# autonomous\n",
    "\n",
    "To compute and run trajectories between to points with the Dingo-Gen3 lite."
   ]
  },
  {
   "cell_type": "code",
   "execution_count": 1,
   "metadata": {},
   "outputs": [],
   "source": [
    "# Insérez ici le numéro de votre équipe\n",
    "# (en) Insert here your team number\n",
    "VOTRE_NUMERO_EQUIPE = 0\n",
    "VOTRE_STATION = 1  # votre poste de travail au laboratoire [1, 2, 3 ou 4]\n",
    "VOTRE_ROBOT_REEL = 2  # indiqué derrière et manette Playsation (pas 02, juste 2 par exemple)\n",
    "# modifier cette variable selon que vous contrôler la simulation ou le robot réel\n",
    "# (en) modify this variable according to whether you control the simulation or the real robot\n",
    "SIM = True"
   ]
  },
  {
   "cell_type": "markdown",
   "metadata": {},
   "source": [
    "## Importation des paquets requis (Importing required packages)"
   ]
  },
  {
   "cell_type": "code",
   "execution_count": null,
   "metadata": {},
   "outputs": [],
   "source": [
    "import sys\n",
    "sys.path.append('/opt/ros/noetic/lib/python3/dist-packages')\n",
    "sys.path.append('/usr/lib/python3/dist-packages')\n",
    "sys.path.append('~/mobile_manip_ws/devel/lib/python3/dist-packages/')"
   ]
  },
  {
   "cell_type": "code",
   "execution_count": 2,
   "metadata": {},
   "outputs": [],
   "source": [
    "from os import environ\n",
    "import numpy as np\n",
    "import math\n",
    "from scipy.spatial.transform import Rotation as R\n",
    "from lab_utils.plan_utils import *\n",
    "import rospy\n",
    "from jackal_msgs.msg import Drive\n",
    "from nav_msgs.msg import Odometry, MapMetaData\n",
    "from geometry_msgs.msg import Pose, PoseWithCovarianceStamped\n",
    "from std_msgs.msg import Float64\n",
    "from geometry_msgs.msg import Twist as GT\n",
    "from matplotlib import pyplot as plt\n",
    "from matplotlib import image as mpimg\n",
    "from mobile_manip.srv import ReachName, GetValues, ReachValues"
   ]
  },
  {
   "cell_type": "code",
   "execution_count": null,
   "metadata": {},
   "outputs": [],
   "source": [
    "if SIM:\n",
    "    #environ['ROS_MASTER_URI'] = \"http://localhost:1137{}/\".format(VOTRE_NUMERO_EQUIPE)\n",
    "    environ['ROS_MASTER_URI'] = \"http://localhost:11311/\" #Ordi personnel\n",
    "else:\n",
    "    environ['ROS_MASTER_URI'] = \"http://cpr-ets05-0{}:11311/\".format(VOTRE_ROBOT_REEL)\n",
    "    environ['ROS_IP'] = \"192.168.0.8{}\".format(VOTRE_STATION)"
   ]
  },
  {
   "cell_type": "code",
   "execution_count": null,
   "metadata": {},
   "outputs": [],
   "source": [
    "# Créer et démarrer un nouveau noeud\n",
    "# (en) Create and start a new node\n",
    "rospy.init_node('mobile_manip_navigation', anonymous=True)"
   ]
  },
  {
   "cell_type": "markdown",
   "metadata": {},
   "source": [
    "## Utility functions"
   ]
  },
  {
   "cell_type": "code",
   "execution_count": null,
   "metadata": {},
   "outputs": [],
   "source": [
    "# Fonction pour le calcul de l'orientation à partir d'un quaternion\n",
    "# (en) Function for calculating the orientation from a quaternion\n",
    "def get_heading_from_quaternion(q):\n",
    "    r = R.from_quat([q.x, q.y, q.z, q.w])\n",
    "    angles = r.as_euler('xyz', degrees=False)\n",
    "    return angles[2]\n",
    "\n",
    "def get_quaternion_from_heading(z):\n",
    "    r = R.from_euler('z', z)\n",
    "    return r.as_quat()\n",
    "\n",
    "# Returns the smallest difference between to angles in the range [-pi, pi]\n",
    "# (en) Retourne la plus petite différence entre deux angles dans l'intervalle [-pi, pi]\n",
    "def wraptopi(angle):\n",
    "    xwrap=np.remainder(angle, 2*np.pi)\n",
    "    if np.abs(xwrap)>np.pi:\n",
    "        xwrap -= 2*np.pi * np.sign(xwrap)\n",
    "    return xwrap\n",
    "def angle_diff(a, b):\n",
    "    diff = a - b\n",
    "    if diff > math.pi: diff  -= 2*math.pi\n",
    "    if diff < -math.pi: diff += 2*math.pi\n",
    "    return diff"
   ]
  },
  {
   "cell_type": "markdown",
   "metadata": {},
   "source": [
    "## Importation de la carte (format png)"
   ]
  },
  {
   "cell_type": "code",
   "execution_count": null,
   "metadata": {},
   "outputs": [],
   "source": [
    "start = Point(1380, 1130)\n",
    "goal = Point(1625, 1550)\n",
    "fig, ax = plt.subplots(figsize=(18,10))\n",
    "image = mpimg.imread(\"a2230_map_closed_fliped.png\")\n",
    "plt.imshow(image, origin=\"lower\")\n",
    "ax.add_artist(plt.Circle((start.x, start.y), 6, color='r'))\n",
    "ax.add_artist(plt.Circle((goal.x, goal.y), 6, color='y'))\n",
    "plt.show()"
   ]
  },
  {
   "cell_type": "markdown",
   "metadata": {},
   "source": [
    "## Création des 'callbacks' (create callbacks)\n",
    "\n",
    "Chaque fonction est associée à un sujet ROS et enregistre en continue sont contenu dans une variable globale.\n",
    "\n",
    "(en) Each function is associated with a ROS topic and continuously records its content in a global variable."
   ]
  },
  {
   "cell_type": "code",
   "execution_count": null,
   "metadata": {},
   "outputs": [],
   "source": [
    "# Realsense Pose subscriber callback\n",
    "pose_msg = Pose()\n",
    "def pose_callback(msg):\n",
    "    global pose_msg\n",
    "    # Convert pose to the map frame\n",
    "    x = msg.pose.pose.position.x\n",
    "    y = msg.pose.pose.position.y\n",
    "    theta = get_heading_from_quaternion(msg.pose.pose.orientation)\n",
    "    pose_msg.position.x = x * math.cos(init_pose['theta']) - y * math.sin(init_pose['theta']) + init_pose['x']\n",
    "    pose_msg.position.y = x * math.sin(init_pose['theta']) + y * math.cos(init_pose['theta']) + init_pose['y']\n",
    "    quat = get_quaternion_from_heading(theta + init_pose['theta'])\n",
    "    pose_msg.orientation.x = quat[0]\n",
    "    pose_msg.orientation.y = quat[1]\n",
    "    pose_msg.orientation.z = quat[2]\n",
    "    pose_msg.orientation.w = quat[3]"
   ]
  },
  {
   "cell_type": "code",
   "execution_count": null,
   "metadata": {},
   "outputs": [],
   "source": [
    "origin = Point(0, 0)\n",
    "map_resolution = 0\n",
    "amcl_origin = { 'x': origin.x, 'y': origin.y, 'theta': 0.0}\n",
    "def map_callback(msg):\n",
    "    global origin, amcl_origin, map_resolution\n",
    "    map_resolution = msg.resolution\n",
    "    origin.x = np.abs(msg.origin.position.x) # en m\n",
    "    origin.y = np.abs(msg.origin.position.y) # en m\n",
    "    amcl_origin = { 'x': origin.x, 'y': origin.y, 'theta': 0.0} # en m\n",
    "\n",
    "amcl_pose = Pose()\n",
    "def amcl_callback(msg):\n",
    "    global amcl_pose\n",
    "    x = msg.pose.pose.position.x\n",
    "    y = msg.pose.pose.position.y\n",
    "    theta = get_heading_from_quaternion(msg.pose.pose.orientation)\n",
    "    amcl_pose.position.x = x * math.cos(amcl_origin['theta']) - y * math.sin(amcl_origin['theta']) + amcl_origin['x']\n",
    "    amcl_pose.position.y = x * math.sin(amcl_origin['theta']) + y * math.cos(amcl_origin['theta']) + amcl_origin['y']\n",
    "    quat = get_quaternion_from_heading(theta + amcl_origin['theta'])\n",
    "    amcl_pose.orientation.x = quat[0]\n",
    "    amcl_pose.orientation.y = quat[1]\n",
    "    amcl_pose.orientation.z = quat[2]\n",
    "    amcl_pose.orientation.w = quat[3]"
   ]
  },
  {
   "cell_type": "code",
   "execution_count": null,
   "metadata": {},
   "outputs": [],
   "source": [
    "# ROS subscribers et publishers\n",
    "cmd_drive_pub = rospy.Publisher('/mobile_manip/dingo_velocity_controller/cmd_drive', Drive, queue_size=1)\n",
    "cmd_vel_pub = rospy.Publisher('/cmd_vel', GT, queue_size=1)\n",
    "initial_pose_pub = rospy.Publisher('/initialpose', PoseWithCovarianceStamped, queue_size=1)\n",
    "map_sub = rospy.Subscriber('/map_metadata', MapMetaData, map_callback) # Important before amcl_sub to get map_data\n",
    "amcl_sub = rospy.Subscriber('/amcl_pose', PoseWithCovarianceStamped, amcl_callback)"
   ]
  },
  {
   "cell_type": "markdown",
   "metadata": {},
   "source": [
    "## Contrôleur du mouvement (movement controller)"
   ]
  },
  {
   "cell_type": "code",
   "execution_count": null,
   "metadata": {},
   "outputs": [],
   "source": [
    "interwheel_distance = 0.3765\n",
    "left_wheel_radius = 0.098\n",
    "right_wheel_radius = 0.098\n",
    "def move_robot(linear, angular):\n",
    "    vel_left  = (linear - angular * interwheel_distance / 2.0) / left_wheel_radius\n",
    "    vel_right = (linear + angular * interwheel_distance / 2.0) / right_wheel_radius\n",
    "\n",
    "    if SIM:\n",
    "        # Envoi des commandes au roues par topic ROS\n",
    "        # (en) Sending commands to the wheels via ROS topic\n",
    "        cmd_drive_msg = Drive()\n",
    "        cmd_drive_msg.drivers[0] = vel_left\n",
    "        cmd_drive_msg.drivers[1] = vel_right\n",
    "        cmd_drive_pub.publish(cmd_drive_msg)\n",
    "    else:\n",
    "        # Envoi des commandes au controlleur du robot\n",
    "        # (en) Sending commands to the robot controller\n",
    "        cmd_vel_msg = GT()\n",
    "        cmd_vel_msg.linear.x = linear\n",
    "        cmd_vel_msg.angular.z = angular\n",
    "        cmd_vel_pub.publish(cmd_vel_msg)"
   ]
  },
  {
   "cell_type": "markdown",
   "metadata": {},
   "source": [
    "## Changer la position initiale du robot (AMCL)\n",
    "\n",
    "### AMCL\n",
    "\n",
    "Adaptive monte carlo localization (AMCL) is a probabilistic localization system for a robot moving in 2D. It implements the adaptive (or KLD-sampling) Monte Carlo localization approach (as described by Dieter Fox), which uses a particle filter to track the pose of a robot against a known map. The robot's pose is estimated by a sample set of weighted particles. Each particle represents a possible state of the robot, including its position and orientation.\n",
    "\n",
    "The particel sample is revised at each time step, based on a motion model and observations. The observations used in AMCL are range measurements, provided by a range sensor. AMCL uses the occupancy grid mapping package to build a map of the environment from the sensor data. "
   ]
  },
  {
   "cell_type": "code",
   "execution_count": null,
   "metadata": {},
   "outputs": [],
   "source": [
    "def pub_initial_position(x, y, theta):\n",
    "        # Publishing new initial position (x, y, theta) --> for localization\n",
    "        # :param x x-position of the robot\n",
    "        # :param y y-position of the robot\n",
    "        # :param theta theta-position of the robot\n",
    "\n",
    "        initpose = PoseWithCovarianceStamped()\n",
    "        initpose.header.stamp = rospy.get_rostime()\n",
    "        initpose.header.frame_id = \"map\"\n",
    "        initpose.pose.pose.position.x = x\n",
    "        initpose.pose.pose.position.y = y\n",
    "        quaternion = get_quaternion_from_heading(theta)\n",
    "\n",
    "        initpose.pose.pose.orientation.w = quaternion[0]\n",
    "        initpose.pose.pose.orientation.x = quaternion[1]\n",
    "        initpose.pose.pose.orientation.y = quaternion[2]\n",
    "        initpose.pose.pose.orientation.z = quaternion[3]\n",
    "\n",
    "        initial_pose_pub.publish(initpose)"
   ]
  },
  {
   "cell_type": "markdown",
   "metadata": {},
   "source": [
    "## Trajectoire avec A* (A* trajectory)\n",
    "\n",
    "### A-Star (A*)\n",
    "\n",
    "A* is a graph traversal and path search algorithm, which is often used in many fields of computer science due to its completeness, optimality, and optimal efficiency. One major practical drawback is its O(b^d) space complexity, as it stores all generated nodes in memory. Thus, in practical travel-routing systems, it is generally outperformed by algorithms which can pre-process the graph to attain better performance, as well as memory-bounded approaches; however, A* is still the best solution in many cases."
   ]
  },
  {
   "cell_type": "code",
   "execution_count": null,
   "metadata": {},
   "outputs": [],
   "source": [
    "start = Point(int(amcl_pose.position.x/map_resolution), int(amcl_pose.position.y/map_resolution))\n",
    "print(start.x,start.y, get_heading_from_quaternion(amcl_pose.orientation))"
   ]
  },
  {
   "cell_type": "code",
   "execution_count": null,
   "metadata": {},
   "outputs": [],
   "source": [
    "from lab_utils.astart import AStarPlanner\n",
    "# Create the points for the algorithm\n",
    "start = Point(int(amcl_pose.position.x/map_resolution), int(amcl_pose.position.y/map_resolution))\n",
    "map_img = 1-image[:,:,0]\n",
    "mat_map = map_img\n",
    "map = BMPMap(width=map_img.shape[1], height=map_img.shape[0], mat=mat_map)\n",
    "astarPlanner = AStarPlanner(map=map, step_size=6, collision_radius=12, heuristic_dist='Euclidean')\n",
    "astarPlanner.plan(start=start, target=goal)"
   ]
  },
  {
   "cell_type": "code",
   "execution_count": null,
   "metadata": {},
   "outputs": [],
   "source": [
    "fig = plt.figure(figsize=(16,8))\n",
    "ax2 = fig.add_subplot(1, 1, 1)\n",
    "plt.imshow(image, origin=\"lower\")\n",
    "ax2.add_artist(plt.Circle((start.x, start.y), 10, color='r'))\n",
    "ax2.add_artist(plt.Circle((goal.x, goal.y), 10, color='y'))\n",
    "for i in range(len(astarPlanner.finalPath)-1):\n",
    "    pt = astarPlanner.finalPath[i].tuple()\n",
    "    ax2.add_artist(plt.Circle((pt[0], pt[1]), 5, color='g'))\n",
    "plt.show()"
   ]
  },
  {
   "cell_type": "markdown",
   "metadata": {},
   "source": [
    "## Suivre la trajectoire (Attention le robot va bouger!)\n",
    "\n",
    "Gardez vos mains sur la télécommande.\n",
    "\n",
    "\n",
    "## (en) Follow the trajectory (Attention the robot will move!)\n",
    "\n",
    "(en) Keep your hands on the remote control."
   ]
  },
  {
   "cell_type": "code",
   "execution_count": null,
   "metadata": {},
   "outputs": [],
   "source": [
    "current_wp = 0\n",
    "while current_wp < len(astarPlanner.finalPath):\n",
    "    target_x, target_y = astarPlanner.finalPath[current_wp].tuple()\n",
    "\n",
    "    target_x *= map_resolution\n",
    "    target_y *= map_resolution\n",
    "\n",
    "    #print(\"From {}, {} to {}, {}\".format(amcl_pose.position.x, amcl_pose.position.y, target_x, target_y))\n",
    "\n",
    "    theta_target = math.atan2(target_y - amcl_pose.position.y, target_x - amcl_pose.position.x)\n",
    "    theta = get_heading_from_quaternion(amcl_pose.orientation)\n",
    "\n",
    "    dist = math.sqrt((target_x-amcl_pose.position.x)**2 + (target_y-amcl_pose.position.y)**2)\n",
    "    dtheta = angle_diff(theta_target, theta)\n",
    "\n",
    "    # print(dist)\n",
    "\n",
    "    if dist > 0.4:\n",
    "        if math.fabs(dtheta) > 0.785:\n",
    "            linear = 0.0\n",
    "        else:\n",
    "            linear = 0.5\n",
    "\n",
    "        angular = min(dtheta, 1.0) if dtheta >= 0 else max(dtheta, -1.0)\n",
    "        move_robot(linear, angular)\n",
    "    else:\n",
    "        current_wp += 1\n",
    "\n",
    "move_robot(0, 0)"
   ]
  },
  {
   "cell_type": "markdown",
   "metadata": {},
   "source": [
    "### Seconde destination !"
   ]
  },
  {
   "cell_type": "code",
   "execution_count": null,
   "metadata": {},
   "outputs": [],
   "source": [
    "print(amcl_pose.position.x/map_resolution, amcl_pose.position.y/map_resolution)\n",
    "goal = Point(700, 350)\n",
    "start = Point(int(amcl_pose.position.x/map_resolution)-300, int(amcl_pose.position.y/map_resolution))\n",
    "astarPlanner.plan(start=start, target=goal)"
   ]
  },
  {
   "cell_type": "code",
   "execution_count": null,
   "metadata": {},
   "outputs": [],
   "source": [
    "fig = plt.figure(figsize=(16,8))\n",
    "ax2 = fig.add_subplot(1, 1, 1)\n",
    "plt.imshow(image, origin=\"lower\")\n",
    "ax2.add_artist(plt.Circle((start.x, start.y), 10, color='r'))\n",
    "ax2.add_artist(plt.Circle((goal.x, goal.y), 10, color='y'))\n",
    "for i in range(len(astarPlanner.finalPath)-1):\n",
    "    pt = astarPlanner.finalPath[i].tuple()\n",
    "    ax2.add_artist(plt.Circle((pt[0], pt[1]), 5, color='g'))\n",
    "plt.show()"
   ]
  },
  {
   "cell_type": "markdown",
   "metadata": {},
   "source": [
    "## Suivre la trajectoire (Attention le robot va bouger!)\n",
    "\n",
    "Gardez vos mains sur la télécommande.\n",
    "\n",
    "## (en) Follow the trajectory (Attention the robot will move!)\n",
    "\n",
    "(en) Keep your hands on the remote control."
   ]
  },
  {
   "cell_type": "code",
   "execution_count": null,
   "metadata": {},
   "outputs": [],
   "source": [
    "current_wp = 0\n",
    "while current_wp < len(astarPlanner.finalPath):\n",
    "    target_x, target_y = astarPlanner.finalPath[current_wp].tuple()\n",
    "\n",
    "    target_x *= map_resolution\n",
    "    target_y *= map_resolution\n",
    "\n",
    "    #print(\"From {}, {} to {}, {}\".format(amcl_pose.position.x, amcl_pose.position.y, target_x, target_y))\n",
    "\n",
    "    theta_target = math.atan2(target_y - amcl_pose.position.y, target_x - amcl_pose.position.x)\n",
    "    theta = get_heading_from_quaternion(amcl_pose.orientation)\n",
    "\n",
    "    dist = math.sqrt((target_x-amcl_pose.position.x)**2 + (target_y-amcl_pose.position.y)**2)\n",
    "    dtheta = angle_diff(theta_target, theta)\n",
    "\n",
    "    # print(dist)\n",
    "\n",
    "    if dist > 0.4:\n",
    "        if math.fabs(dtheta) > 0.785:\n",
    "            linear = 0.0\n",
    "        else:\n",
    "            linear = 0.3\n",
    "\n",
    "        angular = min(dtheta, 1.0) if dtheta >= 0 else max(dtheta, -1.0)\n",
    "        move_robot(linear, angular)\n",
    "    else:\n",
    "        current_wp += 1\n",
    "\n",
    "move_robot(0, 0)"
   ]
  },
  {
   "cell_type": "code",
   "execution_count": null,
   "metadata": {},
   "outputs": [],
   "source": []
  }
 ],
 "metadata": {
  "interpreter": {
   "hash": "31f2aee4e71d21fbe5cf8b01ff0e069b9275f58929596ceb00d14d90e3e16cd6"
  },
  "kernelspec": {
   "display_name": "Python 3 (ipykernel)",
   "language": "python",
   "name": "python3"
  },
  "language_info": {
   "codemirror_mode": {
    "name": "ipython",
    "version": 3
   },
   "file_extension": ".py",
   "mimetype": "text/x-python",
   "name": "python",
   "nbconvert_exporter": "python",
   "pygments_lexer": "ipython3",
   "version": "3.9.7"
  }
 },
 "nbformat": 4,
 "nbformat_minor": 4
}
