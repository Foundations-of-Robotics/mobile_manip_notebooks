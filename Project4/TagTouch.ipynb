{
 "cells": [
  {
   "cell_type": "markdown",
   "metadata": {},
   "source": [
    "# TagTouch\n",
    "\n",
    "To compute and run trajectories between to points with the Dingo-Gen3 lite and to detect markers."
   ]
  },
  {
   "cell_type": "code",
   "execution_count": null,
   "metadata": {},
   "outputs": [],
   "source": [
    "# Insérez ici le numéro de votre équipe\n",
    "# (en) Insert here your team number\n",
    "VOTRE_NUMERO_EQUIPE = 0\n",
    "# modifier cette variable selon que vous contrôler la simulation ou le robot réel\n",
    "# (en) change this variable according to whether you control the simulation or the real robot\n",
    "SIM = True"
   ]
  },
  {
   "cell_type": "markdown",
   "metadata": {},
   "source": [
    "## Importation des paquets requis"
   ]
  },
  {
   "cell_type": "code",
   "execution_count": null,
   "metadata": {},
   "outputs": [],
   "source": [
    "import sys; sys.path.append('/opt/ros/noetic/lib/python3/dist-packages/')\n",
    "sys.path.append('/home/admin_mec/mobile_manip_ws/devel/lib/python3/dist-packages/')\n",
    "from os import environ\n",
    "if SIM:\n",
    "    #environ['ROS_MASTER_URI'] = \"http://localhost:1137{}/\".format(VOTRE_NUMERO_EQUIPE)\n",
    "    environ['ROS_MASTER_URI'] = \"http://localhost:11311/\".format(VOTRE_NUMERO_EQUIPE)\n",
    "else:\n",
    "    environ['ROS_MASTER_URI'] = \"http://cpr-ets05-01:11311/\"\n",
    "    environ['ROS_IP'] = \"192.168.0.81\"\n",
    "import numpy as np\n",
    "import math\n",
    "from scipy.spatial.transform import Rotation as R\n",
    "from lab_utils.plan_utils import *\n",
    "import rospy\n",
    "from jackal_msgs.msg import Drive\n",
    "from nav_msgs.msg import Odometry, MapMetaData\n",
    "from std_msgs.msg import Float64\n",
    "from geometry_msgs.msg import Pose, PoseWithCovarianceStamped\n",
    "from geometry_msgs.msg import Twist as GT\n",
    "from matplotlib import pyplot as plt\n",
    "from matplotlib import image as mpimg\n",
    "from apriltag_ros.msg import AprilTagDetectionArray\n",
    "from mobile_manip.srv import ReachName, GetValues, ReachValues"
   ]
  },
  {
   "cell_type": "code",
   "execution_count": null,
   "metadata": {},
   "outputs": [],
   "source": [
    "# Créer et démarrer un nouveau noeud\n",
    "# (en) Create and start a new node\n",
    "rospy.init_node('mobile_manip_navigation', anonymous=True)"
   ]
  },
  {
   "cell_type": "markdown",
   "metadata": {},
   "source": [
    "## Utility functions"
   ]
  },
  {
   "cell_type": "code",
   "execution_count": null,
   "metadata": {},
   "outputs": [],
   "source": [
    "# Fonction pour le calcul de l'orientation à partir d'un quaternion\n",
    "# (en) Function for calculating the orientation from a quaternion\n",
    "def get_heading_from_quaternion(q):\n",
    "    r = R.from_quat([q.x, q.y, q.z, q.w])\n",
    "    angles = r.as_euler('xyz', degrees=False)\n",
    "    return angles[2]\n",
    "\n",
    "def get_quaternion_from_heading(z):\n",
    "    r = R.from_euler('z', z)\n",
    "    return r.as_quat()\n",
    "\n",
    "# Returns the smallest difference between to angles in the range [-pi, pi]\n",
    "def wraptopi(angle):\n",
    "    xwrap=np.remainder(angle, 2*np.pi)\n",
    "    if np.abs(xwrap)>np.pi:\n",
    "        xwrap -= 2*np.pi * np.sign(xwrap)\n",
    "    return xwrap\n",
    "def angle_diff(a, b):\n",
    "    diff = a - b\n",
    "    if diff > math.pi: diff  -= 2*math.pi\n",
    "    if diff < -math.pi: diff += 2*math.pi\n",
    "    return diff"
   ]
  },
  {
   "cell_type": "markdown",
   "metadata": {},
   "source": [
    "## Importation de la carte (format png)"
   ]
  },
  {
   "cell_type": "code",
   "execution_count": null,
   "metadata": {},
   "outputs": [],
   "source": [
    "start = Point(1380, 1130)\n",
    "goal = Point(1590, 1545)\n",
    "fig, ax = plt.subplots(figsize=(18,10))\n",
    "image = mpimg.imread(\"a2230_map_closed_fliped.png\")\n",
    "plt.imshow(image, origin=\"lower\")\n",
    "ax.add_artist(plt.Circle((start.x, start.y), 6, color='r'))\n",
    "ax.add_artist(plt.Circle((goal.x, goal.y), 6, color='y'))\n",
    "plt.show()"
   ]
  },
  {
   "cell_type": "markdown",
   "metadata": {},
   "source": [
    "## Création des 'callbacks'\n",
    "\n",
    "Chaque fonction est associée à un sujet ROS et enregistre en continue sont contenu dans une variable globale.\n",
    "\n",
    "(en) Each function is associated with a ROS topic and continuously records its content in a global variable."
   ]
  },
  {
   "cell_type": "code",
   "execution_count": null,
   "metadata": {},
   "outputs": [],
   "source": [
    "# map and position callbacks\n",
    "origin = Point(0, 0)\n",
    "map_resolution = 0\n",
    "amcl_origin = { 'x': origin.x, 'y': origin.y, 'theta': 0.0}\n",
    "def map_callback(msg):\n",
    "    global origin, amcl_origin, map_resolution\n",
    "    map_resolution = msg.resolution\n",
    "    origin.x = np.abs(msg.origin.position.x) # en m\n",
    "    origin.y = np.abs(msg.origin.position.y) # en m\n",
    "    amcl_origin = { 'x': origin.x, 'y': origin.y, 'theta': 0.0} # en m\n",
    "\n",
    "amcl_pose = Pose()\n",
    "def amcl_callback(msg):\n",
    "    global amcl_pose\n",
    "    x = msg.pose.pose.position.x\n",
    "    y = msg.pose.pose.position.y\n",
    "    theta = get_heading_from_quaternion(msg.pose.pose.orientation)\n",
    "    amcl_pose.position.x = x * math.cos(amcl_origin['theta']) - y * math.sin(amcl_origin['theta']) + amcl_origin['x']\n",
    "    amcl_pose.position.y = x * math.sin(amcl_origin['theta']) + y * math.cos(amcl_origin['theta']) + amcl_origin['y']\n",
    "    quat = get_quaternion_from_heading(theta + amcl_origin['theta'])\n",
    "    amcl_pose.orientation.x = quat[0]\n",
    "    amcl_pose.orientation.y = quat[1]\n",
    "    amcl_pose.orientation.z = quat[2]\n",
    "    amcl_pose.orientation.w = quat[3]"
   ]
  },
  {
   "cell_type": "code",
   "execution_count": null,
   "metadata": {},
   "outputs": [],
   "source": [
    "# AprilTag subscriber callback\n",
    "tag_array = AprilTagDetectionArray()\n",
    "def tag_callback(msg):\n",
    "    global tag_array\n",
    "    tag_array  = msg"
   ]
  },
  {
   "cell_type": "code",
   "execution_count": null,
   "metadata": {},
   "outputs": [],
   "source": [
    "# ROS subscribers et publishers\n",
    "cmd_drive_pub = rospy.Publisher('/mobile_manip/dingo_velocity_controller/cmd_drive', Drive, queue_size=1)\n",
    "cmd_vel_pub = rospy.Publisher('/mobile_manip/cmd_vel', GT, queue_size=1)\n",
    "map_sub = rospy.Subscriber('/map_metadata', MapMetaData, map_callback) # Important before amcl_sub to get map_data\n",
    "amcl_sub = rospy.Subscriber('/amcl_pose', PoseWithCovarianceStamped, amcl_callback)\n",
    "tag_sub = rospy.Subscriber('/tag_detections', AprilTagDetectionArray, tag_callback)"
   ]
  },
  {
   "cell_type": "markdown",
   "metadata": {},
   "source": [
    "## Contrôleur du mouvement"
   ]
  },
  {
   "cell_type": "code",
   "execution_count": null,
   "metadata": {},
   "outputs": [],
   "source": [
    "interwheel_distance = 0.3765\n",
    "left_wheel_radius = 0.098\n",
    "right_wheel_radius = 0.098\n",
    "def move_robot(linear, angular):\n",
    "    vel_left  = (linear - angular * interwheel_distance / 2.0) / left_wheel_radius\n",
    "    vel_right = (linear + angular * interwheel_distance / 2.0) / right_wheel_radius\n",
    "\n",
    "    if SIM:\n",
    "        # Envoi des commandes au roues par topic ROS\n",
    "        # (en) Sending commands to the wheels via ROS topic\n",
    "        cmd_drive_msg = Drive()\n",
    "        cmd_drive_msg.drivers[0] = vel_left\n",
    "        cmd_drive_msg.drivers[1] = vel_right\n",
    "        cmd_drive_pub.publish(cmd_drive_msg)\n",
    "    else:\n",
    "        # Envoi des commandes au controlleur du robot\n",
    "        # (en) Sending commands to the robot controller\n",
    "        cmd_vel_msg = GT()\n",
    "        cmd_vel_msg.linear.x = linear\n",
    "        cmd_vel_msg.angular.z = angular\n",
    "        cmd_vel_pub.publish(cmd_vel_msg)"
   ]
  },
  {
   "cell_type": "markdown",
   "metadata": {},
   "source": [
    "## Trajectoire avec A*"
   ]
  },
  {
   "cell_type": "code",
   "execution_count": null,
   "metadata": {},
   "outputs": [],
   "source": [
    "import time\n",
    "time.sleep(0.1)\n",
    "start = Point(int(amcl_pose.position.x/map_resolution), int(amcl_pose.position.y/map_resolution))\n",
    "print(start.x,start.y, get_heading_from_quaternion(amcl_pose.orientation))"
   ]
  },
  {
   "cell_type": "code",
   "execution_count": null,
   "metadata": {},
   "outputs": [],
   "source": [
    "from lab_utils.astart import AStarPlanner\n",
    "# Create the points for the algorithm\n",
    "start = Point(int(amcl_pose.position.x/map_resolution), int(amcl_pose.position.y/map_resolution))\n",
    "map_img = 1-np.array(image[:,:,1])\n",
    "mat_map = map_img\n",
    "map = BMPMap(width=map_img.shape[1], height=map_img.shape[0], mat=mat_map)\n",
    "astarPlanner = AStarPlanner(map=map, step_size=6, collision_radius=12, heuristic_dist='Euclidean')\n",
    "astarPlanner.plan(start=start, target=goal)"
   ]
  },
  {
   "cell_type": "code",
   "execution_count": null,
   "metadata": {},
   "outputs": [],
   "source": [
    "fig = plt.figure(figsize=(16,8))\n",
    "ax2 = fig.add_subplot(1, 1, 1)\n",
    "plt.imshow(image, origin='lower')\n",
    "ax2.add_artist(plt.Circle((start.x, start.y), 10, color='r'))\n",
    "ax2.add_artist(plt.Circle((goal.x, goal.y), 10, color='y'))\n",
    "for i in range(len(astarPlanner.finalPath)-1):\n",
    "    pt = astarPlanner.finalPath[i].tuple()\n",
    "    ax2.add_artist(plt.Circle((pt[0], pt[1]), 5, color='g'))\n",
    "plt.show()"
   ]
  },
  {
   "cell_type": "markdown",
   "metadata": {},
   "source": [
    "## Suivre la trajectoire (Attention le robot va bouger!)\n",
    "Gardez vos mains sur la télécommande"
   ]
  },
  {
   "cell_type": "code",
   "execution_count": null,
   "metadata": {},
   "outputs": [],
   "source": [
    "current_wp = 0\n",
    "while current_wp < len(astarPlanner.finalPath):\n",
    "    target_x, target_y = astarPlanner.finalPath[current_wp].tuple()\n",
    "\n",
    "    target_x *= map_resolution\n",
    "    target_y *= map_resolution\n",
    "\n",
    "    #print(\"From {}, {} to {}, {}\".format(pose_msg.position.x, pose_msg.position.y, target_x, target_y))\n",
    "\n",
    "    theta_target = math.atan2(target_y - amcl_pose.position.y, target_x - amcl_pose.position.x)\n",
    "    theta = get_heading_from_quaternion(amcl_pose.orientation)\n",
    "\n",
    "    dist = math.sqrt((target_x-amcl_pose.position.x)**2 + (target_y-amcl_pose.position.y)**2)\n",
    "    dtheta = angle_diff(theta_target, theta)\n",
    "\n",
    "    #print(dist, dtheta)\n",
    "\n",
    "    if dist > 0.4:\n",
    "        if math.fabs(dtheta) > 0.785:\n",
    "            linear = 0.0\n",
    "        else:\n",
    "            linear = 0.3\n",
    "\n",
    "        angular = min(dtheta, 0.7) if dtheta >= 0 else max(dtheta, -0.7)\n",
    "        move_robot(linear, angular)\n",
    "    else:\n",
    "        current_wp += 1\n",
    "\n",
    "move_robot(0, 0)"
   ]
  },
  {
   "cell_type": "markdown",
   "metadata": {},
   "source": [
    "### Relever le bras pour libérer le chemin (Lift the arm to clear the path)"
   ]
  },
  {
   "cell_type": "code",
   "execution_count": null,
   "metadata": {},
   "outputs": [],
   "source": []
  },
  {
   "cell_type": "markdown",
   "metadata": {},
   "source": [
    "## Déplacement de la base vers le tag (Move the base to the tag)"
   ]
  },
  {
   "cell_type": "code",
   "execution_count": null,
   "metadata": {},
   "outputs": [],
   "source": [
    "from scipy.spatial.transform import Rotation as R\n",
    "dist = 1.0\n",
    "if SIM:\n",
    "    T_cam2base = np.array([[0.16], [0.04], [0.463]])\n",
    "else:\n",
    "    T_cam2base = np.array([[0.0], [0.05], [-0.137]])\n"
   ]
  },
  {
   "cell_type": "markdown",
   "metadata": {},
   "source": [
    "## Déplacement du bras vers le tag (Move the arm to the tag)"
   ]
  },
  {
   "cell_type": "code",
   "execution_count": null,
   "metadata": {},
   "outputs": [],
   "source": [
    "# Touche le Tag\n",
    "# (en) Touch the Tag\n"
   ]
  },
  {
   "cell_type": "markdown",
   "metadata": {},
   "source": [
    "## Déplacement du bras vers la poignée (Move the arm to the handle)"
   ]
  },
  {
   "cell_type": "code",
   "execution_count": null,
   "metadata": {},
   "outputs": [],
   "source": [
    "# Ouvre la pince\n",
    "# (en) Open the gripper\n"
   ]
  },
  {
   "cell_type": "code",
   "execution_count": null,
   "metadata": {},
   "outputs": [],
   "source": [
    "# Déplace vers la poignée\n",
    "# (en) Move to the handle\n"
   ]
  },
  {
   "cell_type": "code",
   "execution_count": null,
   "metadata": {},
   "outputs": [],
   "source": [
    "# Ferme la pince\n",
    "# (en) Close the gripper\n"
   ]
  },
  {
   "cell_type": "code",
   "execution_count": null,
   "metadata": {},
   "outputs": [],
   "source": [
    "# Pour obtenir les coordonnées actuelles de la pince\n",
    "# (en) To get the current coordinates of the gripper\n"
   ]
  }
 ],
 "metadata": {
  "interpreter": {
   "hash": "31f2aee4e71d21fbe5cf8b01ff0e069b9275f58929596ceb00d14d90e3e16cd6"
  },
  "kernelspec": {
   "display_name": "Python 3 (ipykernel)",
   "language": "python",
   "name": "python3"
  },
  "language_info": {
   "codemirror_mode": {
    "name": "ipython",
    "version": 3
   },
   "file_extension": ".py",
   "mimetype": "text/x-python",
   "name": "python",
   "nbconvert_exporter": "python",
   "pygments_lexer": "ipython3",
   "version": "3.8.10"
  }
 },
 "nbformat": 4,
 "nbformat_minor": 4
}
