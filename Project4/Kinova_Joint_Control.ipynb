{
 "cells": [
  {
   "cell_type": "markdown",
   "metadata": {},
   "source": [
    "# Kinova Arm Joint Control\n",
    "\n",
    "ROS services to control the arm."
   ]
  },
  {
   "cell_type": "markdown",
   "metadata": {},
   "source": [
    "### Le numéro de votre équipe (en: Your team number)"
   ]
  },
  {
   "cell_type": "code",
   "execution_count": null,
   "metadata": {},
   "outputs": [],
   "source": [
    "# Insérez ici le numéro de votre équipe\n",
    "# (en) Insert here your team number\n",
    "VOTRE_NUMERO_EQUIPE = 0"
   ]
  },
  {
   "cell_type": "code",
   "execution_count": null,
   "metadata": {},
   "outputs": [],
   "source": [
    "# Import des paquets requis et configuration du ROS Master\n",
    "import sys; sys.path.append('/opt/ros/noetic/lib/python3/dist-packages')\n",
    "sys.path.append('/usr/lib/python3/dist-packages')\n",
    "sys.path.append('/home/admin_mec/mobile_manip_ws/devel/lib/python3/dist-packages/')\n",
    "from os import environ\n",
    "environ['ROS_MASTER_URI'] = \"http://localhost:1137{}/\".format(VOTRE_NUMERO_EQUIPE)\n",
    "#environ['ROS_MASTER_URI'] = \"http://192.168.0.51:11311/\"\n",
    "import rospy\n",
    "from mobile_manip.srv import ReachName, GetValues, ReachValues"
   ]
  },
  {
   "cell_type": "markdown",
   "metadata": {},
   "source": [
    "### Services pour contrôler le robot (en: Services to control the robot)"
   ]
  },
  {
   "cell_type": "code",
   "execution_count": null,
   "metadata": {},
   "outputs": [],
   "source": [
    "rospy.wait_for_service('/mobile_manip/reach_name')\n",
    "reach_recorded_pose = rospy.ServiceProxy('/mobile_manip/reach_name', ReachName)\n",
    "# pre-recorded pose are home, retract and vertical\n",
    "res = reach_recorded_pose(\"vertical\")\n",
    "print(res)"
   ]
  },
  {
   "cell_type": "code",
   "execution_count": null,
   "metadata": {},
   "outputs": [],
   "source": [
    "rospy.wait_for_service('/mobile_manip/reach_joints')\n",
    "reach_joints_angles = rospy.ServiceProxy('/mobile_manip/reach_joints', ReachValues)\n",
    "res = reach_joints_angles([90.0, 0.0, 0.0, 0.0, 0.0, 0.0])\n",
    "print(res)"
   ]
  },
  {
   "cell_type": "code",
   "execution_count": null,
   "metadata": {},
   "outputs": [],
   "source": [
    "rospy.wait_for_service('/mobile_manip/get_joints')\n",
    "get_joints = rospy.ServiceProxy('/mobile_manip/get_joints', GetValues)\n",
    "res = get_joints()\n",
    "print(res)"
   ]
  },
  {
   "cell_type": "code",
   "execution_count": null,
   "metadata": {},
   "outputs": [],
   "source": [
    "# Ferme la pince\n",
    "# Close the gripper\n",
    "rospy.wait_for_service('/mobile_manip/reach_gripper')\n",
    "reach_grip = rospy.ServiceProxy('/mobile_manip/reach_gripper', ReachValues)\n",
    "effector_open = [0.5]\n",
    "res3 = reach_grip(effector_open)\n",
    "print(res3)"
   ]
  },
  {
   "cell_type": "code",
   "execution_count": null,
   "metadata": {},
   "outputs": [],
   "source": []
  }
 ],
 "metadata": {
  "interpreter": {
   "hash": "31f2aee4e71d21fbe5cf8b01ff0e069b9275f58929596ceb00d14d90e3e16cd6"
  },
  "kernelspec": {
   "display_name": "Python 3 (ipykernel)",
   "language": "python",
   "name": "python3"
  },
  "language_info": {
   "codemirror_mode": {
    "name": "ipython",
    "version": 3
   },
   "file_extension": ".py",
   "mimetype": "text/x-python",
   "name": "python",
   "nbconvert_exporter": "python",
   "pygments_lexer": "ipython3",
   "version": "3.9.7"
  }
 },
 "nbformat": 4,
 "nbformat_minor": 4
}
