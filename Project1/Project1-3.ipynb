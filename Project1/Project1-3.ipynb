{
 "cells": [
  {
   "cell_type": "markdown",
   "metadata": {},
   "source": [
    "# Project1-3\n",
    "\n",
    "Notebook to make the Dingo move in a circle and save a rosbag from the trajectory."
   ]
  },
  {
   "cell_type": "code",
   "execution_count": null,
   "metadata": {},
   "outputs": [],
   "source": [
    "# Insérez ici le numéro de votre équipe\n",
    "# (en) Insert here your team number\n",
    "VOTRE_NUMERO_EQUIPE = 0\n",
    "# modifier cette variable selon que vous contrôler la simulation ou le robot réel\n",
    "# (en) change this variable according to whether you control the simulation or the real robot\n",
    "SIM = True"
   ]
  },
  {
   "cell_type": "code",
   "execution_count": null,
   "metadata": {},
   "outputs": [],
   "source": [
    "import sys\n",
    "\n",
    "\n",
    "sys.path.append(\"/opt/ros/noetic/lib/python3/dist-packages/\")"
   ]
  },
  {
   "cell_type": "code",
   "execution_count": null,
   "metadata": {},
   "outputs": [],
   "source": [
    "# Import des paquets requis et configuration du ROS Master\n",
    "# (en) Import of required packages and configuration of the ROS Master\n",
    "from sensor_msgs.msg import Imu\n",
    "from geometry_msgs.msg import Pose\n",
    "from nav_msgs.msg import Odometry\n",
    "from jackal_msgs.msg import Drive\n",
    "from std_msgs.msg import Float32MultiArray\n",
    "import rospy\n",
    "from os import environ"
   ]
  },
  {
   "cell_type": "code",
   "execution_count": null,
   "metadata": {},
   "outputs": [],
   "source": [
    "# configuration du ROS Master\n",
    "# (en) configuration of the ROS Master\n",
    "if SIM:\n",
    "    environ[\"ROS_MASTER_URI\"] = \"http://localhost:1137{}/\".format(VOTRE_NUMERO_EQUIPE)\n",
    "\n",
    "else:\n",
    "    # X = votre numéro de Dingo\n",
    "    # (en) X = your Dingo number\n",
    "    environ[\"ROS_MASTER_URI\"] = \"http://cpr-ets05-0X:11311/\"\n",
    "\n",
    "    # adresse IP de votre station de travail\n",
    "    # (en) IP address of your workstation\n",
    "    environ[\"ROS_IP\"] = \"10.196.81.23\""
   ]
  },
  {
   "cell_type": "code",
   "execution_count": null,
   "metadata": {},
   "outputs": [],
   "source": [
    "# Création d'un nouveau contenant ROSBAG (en écriture)\n",
    "# (en) Creation of a new ROSBAG container (in writing)\n",
    "import rosbag\n",
    "\n",
    "test_bag = rosbag.Bag(\"output.bag\", \"w\")"
   ]
  },
  {
   "cell_type": "code",
   "execution_count": null,
   "metadata": {},
   "outputs": [],
   "source": [
    "# Créer et démarrer un nouveau noeud\n",
    "# (en) Create and start a new node\n",
    "rospy.init_node(\"dingo_controller\", anonymous=True)"
   ]
  },
  {
   "cell_type": "code",
   "execution_count": null,
   "metadata": {},
   "outputs": [],
   "source": [
    "# Position subscriber callback\n",
    "# (en) Position subscriber callback\n",
    "pose_msg = Pose()\n",
    "\n",
    "\n",
    "def joint_callback(msg):\n",
    "    global pose_msg\n",
    "    pose_msg = msg.pose.pose"
   ]
  },
  {
   "cell_type": "code",
   "execution_count": null,
   "metadata": {},
   "outputs": [],
   "source": [
    "# UMI subscriber callback\n",
    "# (en) UMI subscriber callback\n",
    "imu_msg = Imu()\n",
    "\n",
    "\n",
    "def imu_callback(msg):\n",
    "    global imu_msg\n",
    "    imu_msg = msg"
   ]
  },
  {
   "cell_type": "code",
   "execution_count": null,
   "metadata": {},
   "outputs": [],
   "source": [
    "# ROS subscribers et publishers\n",
    "# (en) ROS subscribers and publishers\n",
    "cmd_drive_pub = rospy.Publisher(\"XXXX/cmd_drive\", Drive, queue_size=1)\n",
    "pose_sub = rospy.Subscriber(\"XXX\", Odometry, joint_callback)\n",
    "imu_sub = rospy.Subscriber(\"XXX\", Imu, imu_callback)"
   ]
  },
  {
   "cell_type": "code",
   "execution_count": null,
   "metadata": {},
   "outputs": [],
   "source": [
    "# Impression des valeurs UMI et des encodeurs - pour tester\n",
    "# (en) Print UMI values and encoders - for testing\n",
    "print(\"Imu data: \")\n",
    "\n",
    "print(\n",
    "    \"Orientation (quaternion): \",\n",
    "    imu_msg.orientation.x,\n",
    "    imu_msg.orientation.y,\n",
    "    imu_msg.orientation.z,\n",
    "    imu_msg.orientation.w,\n",
    ")\n",
    "\n",
    "print(\n",
    "    \"Angular velocity: \",\n",
    "    imu_msg.angular_velocity.x,\n",
    "    imu_msg.angular_velocity.y,\n",
    "    imu_msg.angular_velocity.z,\n",
    ")\n",
    "\n",
    "print(\n",
    "    \"Linear acceleration: \",\n",
    "    imu_msg.linear_acceleration.x,\n",
    "    imu_msg.linear_acceleration.y,\n",
    "    imu_msg.linear_acceleration.z,\n",
    ")\n",
    "\n",
    "print(\"Position: \", pose_msg.position.x, pose_msg.position.y)"
   ]
  },
  {
   "cell_type": "code",
   "execution_count": null,
   "metadata": {},
   "outputs": [],
   "source": [
    "# Déterminez les valeurs numériques de vitesse aux roues requises pour touner sur un cercle R=1m\n",
    "# (en) Determine the numerical values of wheel speed required to turn on a circle R=1m\n",
    "cmd_drive_msg = Drive()\n",
    "cmd_drive_msg.drivers[0] = 0.0\n",
    "cmd_drive_msg.drivers[1] = 0.0\n",
    "\n",
    "# Envoi des commandes au roues par topic ROS\n",
    "# (en) Sending commands to the wheels via ROS topic\n",
    "cmd_drive_pub.publish(cmd_drive_msg)"
   ]
  },
  {
   "cell_type": "code",
   "execution_count": null,
   "metadata": {},
   "outputs": [],
   "source": [
    "# Enregistrer la trajectoire pendant 20 secondes\n",
    "# (en) Record the trajectory for 20 seconds\n",
    "start = float(rospy.Time().now().secs)\n",
    "rate = rospy.Rate(50)\n",
    "\n",
    "while (float(rospy.Time().now().secs) - start) < 20:\n",
    "\n",
    "    test_bag.write(\"/imu\", imu_msg, rospy.Time().now())\n",
    "\n",
    "    test_bag.write(\"/chassis_pose\", pose_msg, rospy.Time().now())\n",
    "    rate.sleep()"
   ]
  },
  {
   "cell_type": "code",
   "execution_count": null,
   "metadata": {},
   "outputs": [],
   "source": [
    "# arrêter le robot\n",
    "# (en) stop the robot\n",
    "cmd_drive_msg = Drive()\n",
    "cmd_drive_msg.drivers[0] = 0.0\n",
    "cmd_drive_msg.drivers[1] = 0.0\n",
    "\n",
    "# Envoi des commandes au roues par topic ROS\n",
    "# (en) Sending commands to the wheels via ROS topic\n",
    "cmd_drive_pub.publish(cmd_drive_msg)"
   ]
  },
  {
   "cell_type": "code",
   "execution_count": null,
   "metadata": {},
   "outputs": [],
   "source": [
    "# close the rosbag\n",
    "# (en) close the rosbag\n",
    "test_bag.close()"
   ]
  },
  {
   "cell_type": "code",
   "execution_count": null,
   "metadata": {},
   "outputs": [],
   "source": []
  }
 ],
 "metadata": {
  "kernelspec": {
   "display_name": "Python 3 (ipykernel)",
   "language": "python",
   "name": "python3"
  },
  "language_info": {
   "codemirror_mode": {
    "name": "ipython",
    "version": 3
   },
   "file_extension": ".py",
   "mimetype": "text/x-python",
   "name": "python",
   "nbconvert_exporter": "python",
   "pygments_lexer": "ipython3",
   "version": "3.9.7"
  }
 },
 "nbformat": 4,
 "nbformat_minor": 4
}
