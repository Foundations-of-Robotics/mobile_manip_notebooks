{
 "cells": [
  {
   "cell_type": "markdown",
   "metadata": {},
   "source": [
    "# Project1-2\n",
    "\n",
    "Notebook for the inverse kinematics of the [Clearpath Dingo](https://clearpathrobotics.com/dingo-indoor-mobile-robot/) robot."
   ]
  },
  {
   "cell_type": "code",
   "execution_count": null,
   "metadata": {},
   "outputs": [],
   "source": [
    "# Insérez ici le numéro de votre équipe\n",
    "# (en) Insert here your team number\n",
    "VOTRE_NUMERO_EQUIPE = 0"
   ]
  },
  {
   "cell_type": "code",
   "execution_count": null,
   "metadata": {},
   "outputs": [],
   "source": [
    "import sys\n",
    "sys.path.append('/opt/ros/noetic/lib/python3/dist-packages/')"
   ]
  },
  {
   "cell_type": "code",
   "execution_count": null,
   "metadata": {},
   "outputs": [],
   "source": [
    "# Import des paquets requis et configuration du ROS Master\n",
    "# (en) Import of required packages and configuration of the ROS Master\n",
    "from jackal_msgs.msg import Drive\n",
    "from os import environ\n",
    "import rospy"
   ]
  },
  {
   "cell_type": "code",
   "execution_count": null,
   "metadata": {},
   "outputs": [],
   "source": [
    "environ['ROS_MASTER_URI'] = \"http://localhost:1137{}/\".format(\n",
    "    VOTRE_NUMERO_EQUIPE)"
   ]
  },
  {
   "cell_type": "markdown",
   "metadata": {},
   "source": [
    "### Configuration du script (Script configuration)\n",
    "\n",
    "Ajoutez ici les valeurs géométriques du robot.\n",
    "\n",
    "(en) Add here the geometric values of the robot."
   ]
  },
  {
   "cell_type": "code",
   "execution_count": null,
   "metadata": {},
   "outputs": [],
   "source": [
    "# Compléter les variables suivantes avec les dimensions du robot en [m]\n",
    "# (en) Complete the following variables with the dimensions of the robot in [m]\n",
    "interwheel_distance = 0.0\n",
    "left_wheel_radius = 0.0\n",
    "right_wheel_radius = 0.0"
   ]
  },
  {
   "cell_type": "code",
   "execution_count": null,
   "metadata": {},
   "outputs": [],
   "source": [
    "# Créer et démarrer un nouveau noeud\n",
    "# (en) Create and start a new node\n",
    "rospy.init_node('dingo_controller', anonymous=True)"
   ]
  },
  {
   "cell_type": "code",
   "execution_count": null,
   "metadata": {},
   "outputs": [],
   "source": [
    "# ROS subscribers et publishers\n",
    "# (en) ROS subscribers and publishers\n",
    "cmd_drive_pub = rospy.Publisher('XXX', Drive, queue_size=1)"
   ]
  },
  {
   "cell_type": "markdown",
   "metadata": {},
   "source": [
    "### Cinématique inverse (Inverse kinematics)\n",
    "\n",
    "Calculez ici la cinématique inverse du robot.\n",
    "\n",
    "(en) Calculate here the inverse kinematics of the robot."
   ]
  },
  {
   "cell_type": "code",
   "execution_count": null,
   "metadata": {},
   "outputs": [],
   "source": [
    "# Calcule les commandes à envoyer à chaque moteur-roue selon le mouvement désiré\n",
    "# (en) Computes the commands to send to each wheel-motor according to the desired movement\n",
    "def move_robot(linear_vel, angular_vel):\n",
    "\n",
    "    # Tâche 2\n",
    "    # Vous devez compléter ici avec la cinématique inverse en termes de vitesses\n",
    "    # c'est-à-dire obtenir les vitesses des roues à partir des vitesses angulaire (angular_vel) et linéaire (linear_vel) désirées\n",
    "    # (en) Task 2\n",
    "    # You must complete here with the inverse kinematics in terms of speeds\n",
    "    # that is to say obtain the wheel speeds from the desired angular (angular_vel) and linear (linear_vel) speeds\n",
    "    vel_left = 0.0\n",
    "    vel_right = 0.0\n",
    "\n",
    "    # Envoi des commandes au roues par topic ROS - ne pas modifier\n",
    "    # (en) Sending commands to the wheels by ROS topic - do not modify\n",
    "    cmd_drive_msg = Drive()\n",
    "\n",
    "    cmd_drive_msg.drivers[0] = vel_left\n",
    "    cmd_drive_msg.drivers[1] = vel_right\n",
    "\n",
    "    cmd_drive_pub.publish(cmd_drive_msg)"
   ]
  },
  {
   "cell_type": "markdown",
   "metadata": {},
   "source": [
    "### Test et validation (test and validation)\n",
    "\n",
    "`ipywidgets` is a Python library that provides interactive widgets for the Jupyter notebook. These widgets are objects that display data, take user input, and allow for interactive features. They can be used to build interactive GUIs for your notebooks, handle user events, and render visualizations.\n",
    "\n",
    "(fr) `ipywidgets` est une bibliothèque Python qui fournit des widgets interactifs pour le notebook Jupyter. Ces widgets sont des objets qui affichent des données, prennent des entrées utilisateur et permettent des fonctionnalités interactives. Ils peuvent être utilisés pour créer des interfaces graphiques interactives pour vos notebooks, gérer les événements utilisateur et rendre les visualisations."
   ]
  },
  {
   "cell_type": "code",
   "execution_count": null,
   "metadata": {},
   "outputs": [],
   "source": [
    "# Création d'une interface minimaliste pour valider la cinématique inverse - ne pas modifier\n",
    "# (en) Creating a minimalist interface to validate the inverse kinematics - do not modify\n",
    "import ipywidgets as widgets  # importation de la librairie ipywidgets\n",
    "float_linear = widgets.FloatSlider(\n",
    "    description='Linear velocity:', min=-10.0, max=10.0, step=0.01)\n",
    "float_angular = widgets.FloatSlider(\n",
    "    description='Angular velocity:', min=-5.0, max=5.0, step=0.01)\n",
    "output_linear = widgets.Output()\n",
    "output_angular = widgets.Output()\n",
    "\n",
    "display(float_linear, output_linear)\n",
    "display(float_angular, output_angular)\n",
    "\n",
    "\n",
    "def on_value_change(change):\n",
    "    with output_linear:\n",
    "        linear = float_linear.value\n",
    "    with output_angular:\n",
    "        angular = float_angular.value\n",
    "    move_robot(linear, angular)\n",
    "\n",
    "\n",
    "float_linear.observe(on_value_change, names='value')\n",
    "float_angular.observe(on_value_change, names='value')\n",
    "\n",
    "# Ci-dessous des curseurs permettant d'envoyer immédiatement des valeurs de vitesse linéaire et angulaire au Jackal.\n",
    "# (en) Below are sliders to immediately send linear and angular speed values to the Jackal."
   ]
  },
  {
   "cell_type": "code",
   "execution_count": null,
   "metadata": {},
   "outputs": [],
   "source": []
  }
 ],
 "metadata": {
  "kernelspec": {
   "display_name": "Python 3 (ipykernel)",
   "language": "python",
   "name": "python3"
  },
  "language_info": {
   "codemirror_mode": {
    "name": "ipython",
    "version": 3
   },
   "file_extension": ".py",
   "mimetype": "text/x-python",
   "name": "python",
   "nbconvert_exporter": "python",
   "pygments_lexer": "ipython3",
   "version": "3.9.7"
  }
 },
 "nbformat": 4,
 "nbformat_minor": 4
}
