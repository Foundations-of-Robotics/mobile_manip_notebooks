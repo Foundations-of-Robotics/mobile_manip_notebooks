{
 "cells": [
  {
   "cell_type": "markdown",
   "metadata": {},
   "source": [
    "# Analyse1\n",
    "\n",
    "Notebook to read the data from a rosbag and extract the mean and variance from the circle."
   ]
  },
  {
   "cell_type": "code",
   "execution_count": null,
   "metadata": {},
   "outputs": [],
   "source": [
    "# import sys module for python ros packages\n",
    "import sys\n",
    "# add python ros packages to python path\n",
    "sys.path.append('/opt/ros/noetic/lib/python3/dist-packages/')"
   ]
  },
  {
   "cell_type": "code",
   "execution_count": null,
   "metadata": {},
   "outputs": [],
   "source": [
    "# Import des paquets requis\n",
    "# (en) Import of the required packages\n",
    "import rosbag\n",
    "import math\n",
    "import numpy\n",
    "from geometry_msgs.msg import Pose"
   ]
  },
  {
   "cell_type": "code",
   "execution_count": null,
   "metadata": {},
   "outputs": [],
   "source": [
    "# Boucle pour lire l'ensemble du ROSBAG et extraire seulement les positions x/y\n",
    "# (en) Loop to read the whole ROSBAG and extract only the x/y positions\n",
    "R = []\n",
    "with rosbag.Bag(\"output.bag\", 'r') as in_bag:\n",
    "    for topic, msg, t in in_bag.read_messages():\n",
    "        if topic == '/chassis_pose':\n",
    "            # Append permet d'ajouter une valeur à la liste\n",
    "            # modifiez selon ce que vous souhaitez conserver\n",
    "            R.append(msg.position.x)"
   ]
  },
  {
   "cell_type": "code",
   "execution_count": null,
   "metadata": {},
   "outputs": [],
   "source": [
    "# Faites ici les calculs requis (utilisez numpy) pour la moyenne et la variance.\n",
    "# (en) do the required calculations here (use numpy) for the mean and variance."
   ]
  },
  {
   "cell_type": "code",
   "execution_count": null,
   "metadata": {},
   "outputs": [],
   "source": []
  }
 ],
 "metadata": {
  "kernelspec": {
   "display_name": "Python 3 (ipykernel)",
   "language": "python",
   "name": "python3"
  },
  "language_info": {
   "codemirror_mode": {
    "name": "ipython",
    "version": 3
   },
   "file_extension": ".py",
   "mimetype": "text/x-python",
   "name": "python",
   "nbconvert_exporter": "python",
   "pygments_lexer": "ipython3",
   "version": "3.8.10"
  }
 },
 "nbformat": 4,
 "nbformat_minor": 4
}
