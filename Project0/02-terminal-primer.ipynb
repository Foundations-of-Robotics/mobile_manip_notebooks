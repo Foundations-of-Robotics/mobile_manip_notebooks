{
 "cells": [
  {
   "cell_type": "markdown",
   "metadata": {},
   "source": [
    "# Terminal Primer\n",
    "\n",
    "[![nbviewer](https://raw.githubusercontent.com/jupyter/design/master/logos/Badges/nbviewer_badge.svg)](https://nbviewer.jupyter.org/github/Foundations-of-Robotics/mobile_manip_notebooks/blob/master/project0/02-terminal-primer.ipynb)\n",
    "[![Binder](https://mybinder.org/badge_logo.svg)](https://mybinder.org/v2/gh/Foundations-of-Robotics/mobile_manip_notebooks/master?filepath=project0/02-terminal-primer.ipynb)\n",
    "\n",
    "**What is a terminal?**\n",
    "\n",
    "In computer science, a terminal is a program that allows the user to access the computer's command-line interface (CLI). Using a terminal, the user can run programs on a computer without a graphical user interface (GUI). An example of a terminal program is the Windows Command Prompt, which provides access to the Windows CLI. Another example is the Bash shell, which is the default terminal program on most Linux distributions.\n",
    "\n",
    "**What is a shell?**\n",
    "\n",
    "A shell is a program that provides the traditional, text-only user interface for a Unix-like operating system. Its primary function is to read commands that are typed into a console (i.e., an all-text display mode) or terminal window (an all-text window) and then execute (i.e., run) them. The shell's main job is to start other programs, such as the Bash shell, which is the default shell on most Linux distributions.\n",
    "\n",
    "```bash\n",
    "# an example of a shell script that prints \"Hello, World!\" to the terminal in Bash using the echo command\n",
    "echo \"Hello, World!\"\n",
    "```"
   ]
  },
  {
   "cell_type": "markdown",
   "metadata": {},
   "source": [
    "## Contents\n",
    "\n",
    "1. [Terminal Commands in Jupyter Notebooks](#terminal-commands-in-jupyter-notebooks)\n",
    "2. [Common Terminal Commands](#common-terminal-commands)\n",
    "3. [Command Line Programs](#command-line-programs)\n",
    "4. [Git and GitHub](#git-and-github)"
   ]
  },
  {
   "cell_type": "markdown",
   "metadata": {},
   "source": [
    "## Terminal Commands In Jupyter Notebooks\n",
    "\n",
    "Jupyter Notebooks can execute commands from the command line using the `%` prefix"
   ]
  },
  {
   "cell_type": "code",
   "execution_count": null,
   "metadata": {},
   "outputs": [],
   "source": [
    "# Jupyter Notebooks can execute commands from the command line using the ! prefix\n",
    "# an example of this is shown below\n",
    "%echo \"Hello World\""
   ]
  },
  {
   "cell_type": "markdown",
   "metadata": {},
   "source": [
    "## Common Terminal Commands\n",
    "\n",
    "Navgating an operating system using the terminal is a bit different than using a GUI. Instead of clicking on folders and files, you type commands into the terminal to navigate the file system. Here are some of the most common commands:\n",
    "\n",
    "> **What is a file system?**\n",
    "> \n",
    "> A file system is a method of organizing and storing files on a computer. It is a hierarchy of directories (also referred to as folders) and files. The file system is responsible for managing the storage of files and directories on a computer's hard disk drive (HDD) or solid-state drive (SSD).\n",
    ">\n",
    "> These days cloud based filesystems obscure the files and folders in a way that makes it difficult to understand the underlying structure. However, filesystems are still important to understand because they are the foundation of how computers store and organize data.\n",
    "\n",
    "| Command | Description |\n",
    "| --- | --- |\n",
    "| `pwd` | Print the current working directory |\n",
    "| `ls` | List the contents of the current directory |\n",
    "| `cd` | Change directory |\n",
    "| `mkdir` | Make a new directory |\n",
    "| `touch` | Create a new file |\n",
    "| `rm` | Remove a file |\n",
    "| `rmdir` | Remove a directory |\n",
    "| `mv` | Move a file or directory |\n",
    "| `cp` | Copy a file or directory |\n",
    "| `cat` | Print the contents of a file to the terminal |\n",
    "| `head` | Print the first few lines of a file to the terminal |\n",
    "| `tail` | Print the last few lines of a file to the terminal |\n",
    "| `grep` | Search for a pattern in a file |\n",
    "| `wc` | Count the number of lines, words, and characters in a file |\n",
    "| `man` | Display the manual page for a command |\n",
    "\n",
    "<br>\n",
    "\n",
    "> Command line programs often have a help page that can be accessed by passing the `--help` flag to the program. For example, to see the help page for the `ls` command, you can run `ls --help` in the terminal.\n",
    "\n",
    "#### ***Give it a try!***"
   ]
  },
  {
   "cell_type": "code",
   "execution_count": null,
   "metadata": {},
   "outputs": [],
   "source": [
    "# The % prefix is used to execute commands in the shell\n",
    "\n",
    "# what is the current working directory\n",
    "%pwd\n",
    "\n",
    "# list all files in the current directory\n",
    "%ls\n",
    "\n",
    "# list all files in the current directory in long format\n",
    "%ls -l # the -l is a flag that is passed to the ls command is an option that changes the output of the command"
   ]
  },
  {
   "cell_type": "markdown",
   "metadata": {},
   "source": [
    "## Command Line Programs\n",
    "\n",
    "A command line program is a program that runs in a terminal. It is a program that can be run from the command line. There are many builtin command line programs, and you can also install your own command line programs.\n",
    "\n",
    "Examples of command line programs that are installed by developers:\n",
    "\n",
    "- `git` - a version control system\n",
    "- `Python` - a programming language\n",
    "- `pip` - a package manager for Python"
   ]
  },
  {
   "cell_type": "markdown",
   "metadata": {},
   "source": [
    "## Git and GitHub\n",
    "\n",
    "Git is a version control system that allows you to track changes to files and directories. It is a distributed version control system, which means that it stores a copy of the repository on each developer's computer. This allows developers to work on the same project at the same time without having to worry about overwriting each other's changes.\n",
    "\n",
    "GitHub is a web-based hosting service for Git repositories. It provides a graphical user interface (GUI) for managing Git repositories and allows developers to collaborate on projects using Git.\n",
    "\n",
    "Git and GitHub are often used together, but they are not the same thing. Git is a version control system, while GitHub is a web-based hosting service for Git repositories.\n",
    "\n",
    "Developers use Git and GitHub to collaborate on projects. They use Git to track changes to files and directories, and they use GitHub to share their changes with other developers."
   ]
  },
  {
   "cell_type": "code",
   "execution_count": null,
   "metadata": {},
   "outputs": [],
   "source": [
    "import requests\n",
    "from IPython.display import display\n",
    "from IPython.core.display import Markdown\n",
    "\n",
    "# get an external resource on source control and display it in the notebook\n",
    "url = 'https://raw.githubusercontent.com/UC-SciTech/its-capstone-repo-template/main/docs/getting-started-with-source-control.md'\n",
    "response = requests.get(url)\n",
    "display(Markdown(response.text))"
   ]
  },
  {
   "cell_type": "code",
   "execution_count": null,
   "metadata": {},
   "outputs": [],
   "source": []
  }
 ],
 "metadata": {
  "kernelspec": {
   "display_name": "Python 3",
   "language": "python",
   "name": "python3"
  },
  "language_info": {
   "codemirror_mode": {
    "name": "ipython",
    "version": 3
   },
   "file_extension": ".py",
   "mimetype": "text/x-python",
   "name": "python",
   "nbconvert_exporter": "python",
   "pygments_lexer": "ipython3",
   "version": "3.8.10"
  }
 },
 "nbformat": 4,
 "nbformat_minor": 2
}
