{
 "cells": [
  {
   "cell_type": "markdown",
   "metadata": {},
   "source": [
    "# ROS Primer\n",
    "\n",
    "[![nbviewer](https://raw.githubusercontent.com/jupyter/design/master/logos/Badges/nbviewer_badge.svg)](https://nbviewer.jupyter.org/github/Foundations-of-Robotics/mobile_manip_notebooks/blob/master/project0/03-ros-primer.ipynb)\n",
    "[![Binder](https://mybinder.org/badge_logo.svg)](https://mybinder.org/v2/gh/Foundations-of-Robotics/mobile_manip_notebooks/master?filepath=project0/03-ros-primer.ipynb)\n",
    "\n",
    "The Robot Operating System (ROS) is a set of software libraries and tools that help you build robot applications. From drivers to state-of-the-art algorithms, and with powerful developer tools, ROS has what you need for your next robotics project. And it's all open source!\n",
    "\n",
    "## Contents\n",
    "\n",
    "1. [What is ROS?](#what-is-ros)\n",
    "2. [ROS Concepts](#ros-concepts)\n",
    "3. [ROS Tools](#ros-tools)\n",
    "4. [ROS Packages](#ros-packages)\n",
    "5. [Block Diagrams and Robot Architectures](#block-diagrams-and-robot-architectures)\n",
    "6. [A ROS-based Model for a Robot Application](#a-ros-based-model-for-a-robot-application)"
   ]
  },
  {
   "cell_type": "markdown",
   "metadata": {},
   "source": [
    "## What is ROS?\n",
    "\n",
    "ROS is a set of software libraries and tools that help you build robot applications. From drivers to state-of-the-art algorithms, and with powerful developer tools, ROS has what you need for your next robotics project. And it's all open source! ROS is a distributed framework of processes (aka nodes) that enables executables to be individually designed and loosely coupled at runtime. These processes can be grouped into packages and distributed into a network of machines. ROS also provides standard operating system services such as hardware abstraction, low-level device control, implementation of commonly-used functionality, message-passing between processes, and package management.\n",
    "\n",
    "***ROS Reinvents the wheel so you don't have to!***\n",
    "\n",
    "ROS is a collection of tools, libraries, and conventions that aim to simplify the task of creating complex and robust robot behavior across a wide variety of robotic platforms. ROS provides a client library that enables you to quickly write ROS nodes in a variety of programming languages. ROS also provides a set of tools that enable you to easily create, manage, and visualize the data flowing between these nodes. ROS is completely open source (BSD) and free for others to use, change, and commercialize upon.\n",
    "\n",
    "These tools and libraries are primarily geared toward a Unix-like system (Ubuntu, Mac OS X, etc.). However, ROS is designed to be as platform-independent as possible. As such, many of the tools and libraries are available on multiple platforms. ROS is not an operating system in the traditional sense of process management and scheduling; rather, you can think of ROS as a meta-operating system that provides those services and more on top of an existing operating system. ROS is similar in some respects to 'robot frameworks,' such as Player, YARP, Orocos, CARMEN, Orca, MOOS, and Microsoft Robotics Studio.\n",
    "\n",
    "> The ROS wiki contains a more detailed [introduction](http://wiki.ros.org/ROS/Introduction) to ROS.\n",
    "\n",
    "The core features of ROS are:\n",
    "\n",
    "* **Peer-to-peer** - ROS is designed to be as distributed as possible. ROS nodes can communicate with each other in a variety of ways, including:\n",
    "  * **Publisher/Subscriber** - nodes publish messages to a topic, and nodes that are interested in receiving those messages subscribe to that topic. This is a very flexible communication paradigm, but it does not provide any information about the structure of the messages being exchanged.\n",
    "  * **Service/Client** - nodes can provide a service, which other nodes can call. This is a synchronous request/reply paradigm.\n",
    "  * **Action Server/Client** - nodes can provide an action, which other nodes can call. This is an asynchronous request/reply paradigm.\n",
    "* **Tools-based** - ROS provides a command-line tool (rosrun) that enables you to run nodes without having to write any code. ROS also provides a number of graphical tools for visualizing and interacting with the system.\n",
    "* **Language-independent** - ROS is not tied to any one language. Implementations exist for C++, Python, Octave, and Lisp. ROS also provides a standardized interface for different languages.\n",
    "* **Easy to debug** - ROS provides a number of tools for visualizing and debugging the runtime behavior of the system. ROS also provides a number of libraries for unit testing and integration testing.\n",
    "* **Free and open source** - ROS is released under the BSD license, and is free for commercial and research use.\n",
    "* **Large community** - ROS has a large community, with over 1000 users on the ROS mailing list. ROS also has a large number of users on the ROS Answers Q&A site.\n",
    "* **Large ecosystem** - ROS has a large ecosystem of packages maintained by a number of organizations and individuals. The ROS wiki contains a list of packages that are available for use with ROS.\n",
    "* **Extensible** - ROS provides a number of tools for creating new packages, including a build system (catkin), a package manager (rosdep), and a package repository (rosdistro).\n",
    "* **Robotics data-types** - ROS provides a number of standard data-types for representing common robotics concepts such as 3D point clouds, camera images, kinematic chains, and laser scans.\n",
    "* **Data distribution** - ROS provides a mechanism for distributing data between data producers and data consumers through the use of topics. This mechanism is based on the publish/subscribe paradigm in data science."
   ]
  },
  {
   "cell_type": "markdown",
   "metadata": {},
   "source": [
    "## ROS Concepts\n",
    "\n",
    "### Nodes\n",
    "\n",
    "A node is an executable that uses ROS to communicate with other nodes. Nodes can publish or subscribe to a topic. Nodes can also provide or use a service. Nodes can also provide or use an action. Nodes can also provide or use a parameter. Nodes can also provide or use a message. Nodes can also provide or use a service. Nodes can also provide or use an action. Nodes can also provide or use a parameter. Nodes can also provide or use a message. Nodes can also provide or use a service. Nodes can also provide or use an action. Nodes can also provide or use a parameter. Nodes can also provide or use a message. Nodes can also provide or use a service. Nodes can also provide or use an action. Nodes can also provide or use a parameter. Nodes can also provide or use a message. Nodes can also provide or use a service. Nodes can also provide or use an action. Nodes can also provide or use a parameter. Nodes can also provide or use a message. Nodes can also provide or use a service. Nodes can also provide or use an action. Nodes can also provide or use a parameter. Nodes can also provide or use a message.\n",
    "\n",
    "### Topics\n",
    "\n",
    "A topic is a named bus over which nodes exchange messages. Topics have anonymous publish/subscribe semantics, which decouples the production of information from its consumption. In general, nodes are not aware of who they are communicating with. Instead, nodes that are interested in data subscribe to the relevant topic; nodes that generate data publish to the relevant topic. There can be multiple publishers and subscribers to a topic. In general, publishers and subscribers are not aware of each others' existence. The ROS Master provides registration services to match publishers to subscribers.\n",
    "\n",
    "### Messages\n",
    "\n",
    "Messages are the payload of information that is sent and received via topics. ROS defines a simple interface for passing messages between nodes. Standard primitive types (integer, floating point, boolean, etc.) are supported, as are arrays of primitive types. Messages can include arbitrarily nested structures and arrays (much like C structs). ROS provides a number of standard message types, but you can also create custom message types. Messages are defined in .msg files, which are compiled into source code for use in your language of choice.\n",
    "\n",
    "### Services\n",
    "\n",
    "A service is a named set of requests and responses. ROS provides a simple mechanism for performing remote procedure calls between nodes. A service is defined by a pair of messages: one for the request and one for the response. ROS provides a number of standard service types, but you can also create custom service types. Services are defined in .srv files, which are compiled into source code for use in your language of choice.\n",
    "\n",
    "### Actions\n",
    "\n",
    "An action is a named set of goals and results. ROS provides a simple mechanism for performing remote procedure calls between nodes. An action is defined by a pair of messages: one for the goal and one for the result. ROS provides a number of standard action types, but you can also create custom action types. Actions are defined in .action files, which are compiled into source code for use in your language of choice.\n",
    "\n",
    "### Parameters\n",
    "\n",
    "A parameter is a named value that can be set on a node. Parameters are stored on the ROS Master. Nodes can retrieve the current value of a parameter, and can subscribe to changes in a parameter's value. Parameters are typically used to store configuration values, such as the maximum speed of a robot. Parameters are defined in .yaml files, which are compiled into source code for use in your language of choice."
   ]
  },
  {
   "cell_type": "markdown",
   "metadata": {},
   "source": [
    "## ROS Tools\n",
    "\n",
    "ROS provides a number of tools for working with ROS. These tools are primarily geared toward a Unix-like system (Ubuntu, Mac OS X, etc.). However, ROS is designed to be as platform-independent as possible. As such, many of the tools are available on multiple platforms. The following sections describe some of the most commonly used tools.\n",
    "\n",
    "### ROS Command-line Tools\n",
    "\n",
    "Command line tools are useful for managing the ROS environment, debugging, and testing. Common command line tools include:\n",
    "\n",
    "* **rosrun** - The rosrun command allows you to run an executable in an arbitrary package without having to give its full path. For example, to run the turtlesim_node from the turtlesim package, you can use the following command:\n",
    "\n",
    "  ```bash\n",
    "  rosrun turtlesim turtlesim_node\n",
    "  ```\n",
    "\n",
    "* **roslaunch** - The roslaunch command allows you to run multiple ROS nodes with a single command. It also allows you to set parameters on the nodes, and to specify remapping rules for topics. For example, to launch the turtlesim_node from the turtlesim package, you can use the following command:\n",
    "\n",
    "  ```bash\n",
    "  roslaunch turtlesim turtlesim_node.launch\n",
    "  ```\n",
    "\n",
    "* **rosnode** - The rosnode command allows you to get information about running ROS nodes. For example, to get a list of all running nodes, you can use the following command:\n",
    "\n",
    "  ```bash\n",
    "  rosnode list\n",
    "  ```\n",
    "\n",
    "* **rostopic** - The rostopic command allows you to get information about ROS topics. For example, to get a list of all topics, you can use the following command:\n",
    "\n",
    "  ```bash\n",
    "  rostopic list\n",
    "  ```\n",
    "\n",
    "* **rosmsg** - The rosmsg command allows you to get information about ROS messages. For example, to get a list of all messages, you can use the following command:\n",
    "\n",
    "  ```bash\n",
    "  rosmsg list\n",
    "  ```\n",
    "\n",
    "### RQT\n",
    "\n",
    "[Link](<https://wiki.ros.org/rqt>)\n",
    "\n",
    "RQT is a series of small graphical tools using QT for visualizing and interacting with a ROS system. RQT plugins are available to visualize topics, services, actions, parameters, and more.\n",
    "\n",
    "### RViz\n",
    "\n",
    "[Link](<https://wiki.ros.org/rviz/UserGuide>)\n",
    "\n",
    "RViz is a 3D visualization tool for ROS. RViz allows you to visualize sensor data, robot models, and other information.\n",
    "\n",
    "### Gazebo\n",
    "\n",
    "[Link](<https://gazebosim.org/home>)\n",
    "\n",
    "Gazebo is a 3D simulation environment for ROS. Gazebo allows you to simulate robots in complex indoor and outdoor environments."
   ]
  },
  {
   "cell_type": "markdown",
   "metadata": {},
   "source": [
    "## ROS Packages\n",
    "\n",
    "A ROS package is a collection of files (e.g., source code, datasets, configuration files) that are grouped together based on their functionality. Packages are the main unit for organizing software in ROS. Packages are typically stored in a version control system (e.g., Git, Subversion, Mercurial) and are downloaded from a package repository (e.g., GitHub, Bitbucket, SourceForge). Packages are typically organized into a directory structure that contains the following files:\n",
    "\n",
    "* **package.xml** - This file contains metadata about the package, such as its name, version number, and dependencies.\n",
    "* **CMakeLists.txt** - This file contains instructions for building the package. ROS uses the CMake build system, which is a cross-platform build system that is widely used in the C++ community.\n",
    "* **src/** - This directory contains the source code for the package.\n",
    "* **include/** - This directory contains the header files for the package.\n",
    "* **launch/** - This directory contains launch files for the package.\n",
    "* **msg/** - This directory contains message definitions for the package.\n",
    "* **srv/** - This directory contains service definitions for the package.\n",
    "* **action/** - This directory contains action definitions for the package.\n",
    "* **cfg/** - This directory contains configuration files for the package.\n",
    "* **scripts/** - This directory contains scripts for the package.\n",
    "* **test/** - This directory contains unit tests for the package.\n",
    "\n",
    "> The ROS wiki contains a more detailed [introduction](http://wiki.ros.org/ROS/Tutorials/CreatingPackage) to ROS packages.\n",
    "\n",
    "Many ROS packages are available for use with ROS. These packages are typically organized into a hierarchy of packages. For example, the ROS navigation stack is a collection of packages that provide navigation-related functionality. There are also packages for specific robots, such as the PR2 robot from Willow Garage, and the TurtleBot from Clearpath Robotics."
   ]
  },
  {
   "cell_type": "markdown",
   "metadata": {},
   "source": [
    "## Block Diagrams and Robot Architectures\n",
    "\n",
    "A block diagram is a diagram of a system in which the principal parts or functions are represented by blocks connected by lines that show the relationships of the blocks. Block diagrams are used to show the components of a system and their interrelationships. Block diagrams are typically used for higher-level, less-detailed descriptions that are intended to clarify overall concepts without concern for the details of implementation. Contrast this with the schematic diagram and layout diagram used in electrical engineering, where the schematic diagram shows the details of the implementation of the system, and the layout diagram shows the details of the physical layout of the components.\n",
    "\n",
    "A robot architecture is a system of components that interact with each other to perform a task. A robot architecture is typically represented as a block diagram. The components of a robot architecture are typically organized into a hierarchy of components. For example, the ROS navigation stack is a collection of packages that provide navigation-related functionality. There are also packages for specific robots, such as the PR2 robot from Willow Garage, and the TurtleBot from Clearpath Robotics.\n",
    "\n",
    "Block diagrams can also represent a ROS network, which is a collection of ROS nodes that communicate with each other. Messages are passed between nodes via topics. The topics are represented as lines between the nodes. The nodes are represented as blocks."
   ]
  },
  {
   "cell_type": "markdown",
   "metadata": {},
   "source": [
    "![ROS Block Diagram](./docs/images/rqt-graph-moveitdemo.png)"
   ]
  },
  {
   "cell_type": "markdown",
   "metadata": {},
   "source": [
    "## A ROS-Based Model for a Robot Application\n",
    "\n",
    "A robot application is a collection of ROS nodes that work together to perform a task. There is typically an inherent heirarchy within the node network. This heirarchy is referred to as a `stack`. The stack in a robot application that uses ROS, starts with a model for the physical elements of the robot. This is declared and provided to the application network. The next layer is typically responsible for driving the hardware that makes up the robot and uses information declared in the `robot model`. Beyond this poin the stack may vary depending on the application. Many robots use `perception` and `control` layers to plan, move and `navigate`. As the stack becomes taller, the nodes become more abstract and the application becomes more complex."
   ]
  },
  {
   "cell_type": "markdown",
   "metadata": {},
   "source": [
    "![ROS Stack](<./docs/images/ROS-stack.png>)"
   ]
  },
  {
   "cell_type": "markdown",
   "metadata": {},
   "source": []
  }
 ],
 "metadata": {
  "language_info": {
   "name": "python"
  }
 },
 "nbformat": 4,
 "nbformat_minor": 2
}
